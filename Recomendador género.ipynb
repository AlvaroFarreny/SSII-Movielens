{
 "cells": [
  {
   "cell_type": "markdown",
   "id": "d4a5c510",
   "metadata": {},
   "source": [
    "# SSII - Práctica Final: Recomendador de películas con MovieLens"
   ]
  },
  {
   "cell_type": "markdown",
   "id": "e34996d8",
   "metadata": {},
   "source": [
    "## Grupo 1: Ignacio Gil, Álvaro Farreny y Carlos González"
   ]
  },
  {
   "cell_type": "code",
   "execution_count": null,
   "id": "035d73e8-0c7b-405a-9ae9-5920f3224f3c",
   "metadata": {},
   "outputs": [],
   "source": [
    "\"\"\" \n",
    "pip install pandas\n",
    "pip install numpy\n",
    "python -m pip install -U matplotlib\n",
    "pip install seaborn\n",
    "python -m pip install requests\n",
    "pip install -U scikit-learn   \n",
    "pip install beautifulsoup4\n",
    "\"\"\"\n",
    "\n",
    "import pandas as pd\n",
    "import numpy as np\n",
    "import matplotlib as plt\n",
    "%matplotlib inline\n",
    "import seaborn as sns\n",
    "import requests as rq\n",
    "import time\n",
    "import math\n",
    "import datetime\n",
    "\n",
    "from sklearn.neighbors import KNeighborsClassifier as knn\n",
    "from sklearn.metrics import confusion_matrix\n",
    "\n",
    "from bs4 import BeautifulSoup as bs"
   ]
  },
  {
   "cell_type": "code",
   "execution_count": null,
   "id": "6eb88e60-5350-490d-a4a5-0c8c522bf4a7",
   "metadata": {},
   "outputs": [],
   "source": [
    "# Leemos nuestros dataframes\n",
    "movies = pd.read_csv(\"./ml-latest-small/movies.csv\", sep=\",\")\n",
    "ratings = pd.read_csv(\"./ml-latest-small/ratings.csv\", sep=\",\")\n",
    "tags = pd.read_csv(\"./ml-latest-small/tags.csv\", sep=\",\")\n",
    "links = pd.read_csv(\"./ml-latest-small/links.csv\", sep=\",\")\n",
    "\n",
    "# Eliminamos nuelos\n",
    "movies.dropna(inplace=True)\n",
    "ratings.dropna(inplace=True)\n",
    "tags.dropna(inplace=True)\n",
    "links.dropna(inplace=True)"
   ]
  },
  {
   "cell_type": "code",
   "execution_count": null,
   "id": "ea6169ce",
   "metadata": {},
   "outputs": [],
   "source": [
    "# Extraemos el año del título\n",
    "movies['year'] = movies.title.str.extract(\"\\((\\d{4})\\)\", expand=True)\n",
    "movies.year = pd.to_datetime(movies.year, format='%Y')\n",
    "movies.year = movies.year.dt.year\n",
    "movies.title = movies.title.str[:-7]"
   ]
  },
  {
   "cell_type": "code",
   "execution_count": null,
   "id": "baa8a570-b795-45c2-a371-f49559b998d8",
   "metadata": {},
   "outputs": [],
   "source": [
    "'''# Separamos los géneros\n",
    "movies['genres'] = movies['genres'].str.split('|')\n",
    "dfx = pd.get_dummies(pd.DataFrame(movies['genres'].tolist()).stack()).sum(level=0)\n",
    "movies = pd.concat([movies, dfx], axis=1).drop(columns=['genres'])\n",
    "\n",
    "generos = movies[['movieId', '(no genres listed)', 'Action', 'Adventure',\n",
    "       'Animation', 'Children', 'Comedy', 'Crime', 'Documentary', 'Drama',\n",
    "       'Fantasy', 'Film-Noir', 'Horror', 'IMAX', 'Musical', 'Mystery',\n",
    "       'Romance', 'Sci-Fi', 'Thriller', 'War', 'Western']].copy()'''"
   ]
  },
  {
   "cell_type": "code",
   "execution_count": null,
   "id": "7bb63196-0e9f-4ff3-8dfe-4124594d048e",
   "metadata": {},
   "outputs": [],
   "source": [
    "movies.head()"
   ]
  },
  {
   "cell_type": "code",
   "execution_count": null,
   "id": "b239b56f",
   "metadata": {},
   "outputs": [],
   "source": [
    "# Cambiamos los timestamps de ratings y tags de segundos a años\n",
    "ratings.timestamp = pd.to_datetime(ratings.timestamp, infer_datetime_format=True)\n",
    "ratings.timestamp = ratings.timestamp.dt.year\n",
    "\n",
    "tags.timestamp = pd.to_datetime(tags.timestamp, infer_datetime_format=True)\n",
    "tags.timestamp = tags.timestamp.dt.year"
   ]
  },
  {
   "cell_type": "code",
   "execution_count": null,
   "id": "7b238ba2",
   "metadata": {},
   "outputs": [],
   "source": [
    "ratings.head()"
   ]
  },
  {
   "cell_type": "code",
   "execution_count": null,
   "id": "f4c1c5b4-e845-4560-8883-68b36f5c2685",
   "metadata": {},
   "outputs": [],
   "source": [
    "ratings.info()"
   ]
  },
  {
   "cell_type": "code",
   "execution_count": null,
   "id": "670a705d",
   "metadata": {},
   "outputs": [],
   "source": [
    "tags.head()"
   ]
  },
  {
   "cell_type": "code",
   "execution_count": null,
   "id": "15495b4b",
   "metadata": {},
   "outputs": [],
   "source": [
    "links.head()"
   ]
  },
  {
   "cell_type": "code",
   "execution_count": null,
   "id": "0206b65c-adf5-4d62-be5e-c3e1deb7efd2",
   "metadata": {},
   "outputs": [],
   "source": [
    "from sklearn.feature_extraction.text import TfidfVectorizer\n",
    "from sklearn.metrics.pairwise import linear_kernel\n",
    "from sklearn.metrics.pairwise import cosine_similarity\n",
    "from itertools import combinations\n",
    "\n",
    "# TF-IDF para las diferentes combinaciones de géneros\n",
    "tf = TfidfVectorizer(analyzer=lambda s: (c for i in range(1,4)\n",
    "                     for c in combinations(s.split('|'), r=i)))\n",
    "\n",
    "# Formamos nuestra matriz con los géneros\n",
    "matriz = tf.fit_transform(movies.genres)\n",
    "# Aplicamos a esta matriz la similitud del coseno\n",
    "similitud = cosine_similarity(matriz)\n",
    "# Creamos un DF con esta similitud\n",
    "similitud_df = pd.DataFrame(similitud, index=movies['title'], columns=movies['title'])"
   ]
  },
  {
   "cell_type": "code",
   "execution_count": null,
   "id": "1646e953",
   "metadata": {},
   "outputs": [],
   "source": [
    "similitud_df"
   ]
  },
  {
   "cell_type": "code",
   "execution_count": null,
   "id": "ff59b3b7",
   "metadata": {},
   "outputs": [],
   "source": [
    "similitud_df.shape"
   ]
  },
  {
   "cell_type": "code",
   "execution_count": null,
   "id": "996c6bfe",
   "metadata": {},
   "outputs": [],
   "source": [
    "movies[['title', 'genres']]"
   ]
  },
  {
   "cell_type": "code",
   "execution_count": null,
   "id": "8bc930a4",
   "metadata": {},
   "outputs": [],
   "source": [
    "# Nuestro valor k indicará la cantidad de recomendaciones que damos\n",
    "def genre_recommendations(i, M, items, k=10):\n",
    "    \"\"\"\n",
    "    i : str\n",
    "        Movie (index of the similarity dataframe)\n",
    "    M : pd.DataFrame\n",
    "        Similarity dataframe, symmetric, with movies as indices and columns\n",
    "    items : pd.DataFrame\n",
    "        Contains both the title and some other features used to define similarity\n",
    "    k : int\n",
    "        Amount of recommendations to return\n",
    "    \"\"\"\n",
    "    index = M.loc[:,i].to_numpy().argpartition(range(-1,-k,-1))\n",
    "    closest = M.columns[index[-1:-(k+2):-1]]\n",
    "    closest = closest.drop(i, errors='ignore')\n",
    "    return pd.DataFrame(closest).merge(items).head(k)"
   ]
  },
  {
   "cell_type": "code",
   "execution_count": null,
   "id": "4ad42afc",
   "metadata": {},
   "outputs": [],
   "source": [
    "genre_recommendations('Toy Story', similitud_df, movies[['title', 'genres']])"
   ]
  },
  {
   "cell_type": "code",
   "execution_count": null,
   "id": "f467f0c3",
   "metadata": {},
   "outputs": [],
   "source": [
    "similitud_df.to_csv(\"prueba1.csv\")"
   ]
  },
  {
   "cell_type": "code",
   "execution_count": 1,
   "id": "a2f67338",
   "metadata": {},
   "outputs": [
    {
     "data": {
      "text/html": [
       "<div>\n",
       "<style scoped>\n",
       "    .dataframe tbody tr th:only-of-type {\n",
       "        vertical-align: middle;\n",
       "    }\n",
       "\n",
       "    .dataframe tbody tr th {\n",
       "        vertical-align: top;\n",
       "    }\n",
       "\n",
       "    .dataframe thead th {\n",
       "        text-align: right;\n",
       "    }\n",
       "</style>\n",
       "<table border=\"1\" class=\"dataframe\">\n",
       "  <thead>\n",
       "    <tr style=\"text-align: right;\">\n",
       "      <th></th>\n",
       "      <th>title</th>\n",
       "      <th>genres</th>\n",
       "    </tr>\n",
       "  </thead>\n",
       "  <tbody>\n",
       "    <tr>\n",
       "      <th>0</th>\n",
       "      <td>Adventures of Rocky and Bullwinkle, The</td>\n",
       "      <td>Adventure|Animation|Children|Comedy|Fantasy</td>\n",
       "    </tr>\n",
       "    <tr>\n",
       "      <th>1</th>\n",
       "      <td>Emperor's New Groove, The</td>\n",
       "      <td>Adventure|Animation|Children|Comedy|Fantasy</td>\n",
       "    </tr>\n",
       "    <tr>\n",
       "      <th>2</th>\n",
       "      <td>Toy Story 2</td>\n",
       "      <td>Adventure|Animation|Children|Comedy|Fantasy</td>\n",
       "    </tr>\n",
       "    <tr>\n",
       "      <th>3</th>\n",
       "      <td>Antz</td>\n",
       "      <td>Adventure|Animation|Children|Comedy|Fantasy</td>\n",
       "    </tr>\n",
       "    <tr>\n",
       "      <th>4</th>\n",
       "      <td>Turbo</td>\n",
       "      <td>Adventure|Animation|Children|Comedy|Fantasy</td>\n",
       "    </tr>\n",
       "    <tr>\n",
       "      <th>5</th>\n",
       "      <td>Tale of Despereaux, The</td>\n",
       "      <td>Adventure|Animation|Children|Comedy|Fantasy</td>\n",
       "    </tr>\n",
       "    <tr>\n",
       "      <th>6</th>\n",
       "      <td>Monsters, Inc.</td>\n",
       "      <td>Adventure|Animation|Children|Comedy|Fantasy</td>\n",
       "    </tr>\n",
       "    <tr>\n",
       "      <th>7</th>\n",
       "      <td>Shrek the Third</td>\n",
       "      <td>Adventure|Animation|Children|Comedy|Fantasy</td>\n",
       "    </tr>\n",
       "    <tr>\n",
       "      <th>8</th>\n",
       "      <td>The Good Dinosaur</td>\n",
       "      <td>Adventure|Animation|Children|Comedy|Fantasy</td>\n",
       "    </tr>\n",
       "    <tr>\n",
       "      <th>9</th>\n",
       "      <td>Asterix &amp; Obelix vs. Caesar (Astérix et Obélix...</td>\n",
       "      <td>Adventure|Children|Comedy|Fantasy</td>\n",
       "    </tr>\n",
       "  </tbody>\n",
       "</table>\n",
       "</div>"
      ],
      "text/plain": [
       "                                               title  \\\n",
       "0            Adventures of Rocky and Bullwinkle, The   \n",
       "1                          Emperor's New Groove, The   \n",
       "2                                        Toy Story 2   \n",
       "3                                               Antz   \n",
       "4                                              Turbo   \n",
       "5                            Tale of Despereaux, The   \n",
       "6                                     Monsters, Inc.   \n",
       "7                                    Shrek the Third   \n",
       "8                                  The Good Dinosaur   \n",
       "9  Asterix & Obelix vs. Caesar (Astérix et Obélix...   \n",
       "\n",
       "                                        genres  \n",
       "0  Adventure|Animation|Children|Comedy|Fantasy  \n",
       "1  Adventure|Animation|Children|Comedy|Fantasy  \n",
       "2  Adventure|Animation|Children|Comedy|Fantasy  \n",
       "3  Adventure|Animation|Children|Comedy|Fantasy  \n",
       "4  Adventure|Animation|Children|Comedy|Fantasy  \n",
       "5  Adventure|Animation|Children|Comedy|Fantasy  \n",
       "6  Adventure|Animation|Children|Comedy|Fantasy  \n",
       "7  Adventure|Animation|Children|Comedy|Fantasy  \n",
       "8  Adventure|Animation|Children|Comedy|Fantasy  \n",
       "9            Adventure|Children|Comedy|Fantasy  "
      ]
     },
     "execution_count": 1,
     "metadata": {},
     "output_type": "execute_result"
    }
   ],
   "source": [
    "\"\"\" \n",
    "pip install pandas\n",
    "pip install numpy\n",
    "python -m pip install -U matplotlib\n",
    "pip install seaborn\n",
    "python -m pip install requests\n",
    "pip install -U scikit-learn   \n",
    "pip install beautifulsoup4\n",
    "\"\"\"\n",
    "\n",
    "import pandas as pd\n",
    "import numpy as np\n",
    "import matplotlib as plt\n",
    "%matplotlib inline\n",
    "import seaborn as sns\n",
    "import requests as rq\n",
    "import time\n",
    "import math\n",
    "import datetime\n",
    "\n",
    "from sklearn.neighbors import KNeighborsClassifier as knn\n",
    "from sklearn.metrics import confusion_matrix\n",
    "\n",
    "from bs4 import BeautifulSoup as bs\n",
    "\n",
    "# Leemos nuestros dataframes\n",
    "movies = pd.read_csv(\"./ml-latest-small/movies.csv\", sep=\",\")\n",
    "ratings = pd.read_csv(\"./ml-latest-small/ratings.csv\", sep=\",\")\n",
    "tags = pd.read_csv(\"./ml-latest-small/tags.csv\", sep=\",\")\n",
    "links = pd.read_csv(\"./ml-latest-small/links.csv\", sep=\",\")\n",
    "\n",
    "# Eliminamos nuelos\n",
    "movies.dropna(inplace=True)\n",
    "ratings.dropna(inplace=True)\n",
    "tags.dropna(inplace=True)\n",
    "links.dropna(inplace=True)\n",
    "\n",
    "# Extraemos el año del título\n",
    "movies['year'] = movies.title.str.extract(\"\\((\\d{4})\\)\", expand=True)\n",
    "movies.year = pd.to_datetime(movies.year, format='%Y')\n",
    "movies.year = movies.year.dt.year\n",
    "movies.title = movies.title.str[:-7]\n",
    "\n",
    "from sklearn.feature_extraction.text import TfidfVectorizer\n",
    "from sklearn.metrics.pairwise import linear_kernel\n",
    "from sklearn.metrics.pairwise import cosine_similarity\n",
    "from itertools import combinations\n",
    "\n",
    "# TF-IDF para las diferentes combinaciones de géneros\n",
    "tf = TfidfVectorizer(analyzer=lambda s: (c for i in range(1,4)\n",
    "                     for c in combinations(s.split('|'), r=i)))\n",
    "\n",
    "# Formamos nuestra matriz con los géneros\n",
    "matriz = tf.fit_transform(movies.genres)\n",
    "# Aplicamos a esta matriz la similitud del coseno\n",
    "similitud = cosine_similarity(matriz)\n",
    "# Creamos un DF con esta similitud\n",
    "similitud_df = pd.DataFrame(similitud, index=movies['title'], columns=movies['title'])\n",
    "\n",
    "# Nuestro valor k indicará la cantidad de recomendaciones que damos\n",
    "def genre_recommendations(i, M, items, k=10):\n",
    "    \"\"\"\n",
    "    i : str\n",
    "        Movie (index of the similarity dataframe)\n",
    "    M : pd.DataFrame\n",
    "        Similarity dataframe, symmetric, with movies as indices and columns\n",
    "    items : pd.DataFrame\n",
    "        Contains both the title and some other features used to define similarity\n",
    "    k : int\n",
    "        Amount of recommendations to return\n",
    "    \"\"\"\n",
    "    index = M.loc[:,i].to_numpy().argpartition(range(-1,-k,-1))\n",
    "    closest = M.columns[index[-1:-(k+2):-1]]\n",
    "    closest = closest.drop(i, errors='ignore')\n",
    "    return pd.DataFrame(closest).merge(items).head(k)\n",
    "\n",
    "genre_recommendations('Toy Story', similitud_df, movies[['title', 'genres']])"
   ]
  },
  {
   "cell_type": "markdown",
   "id": "16820972",
   "metadata": {
    "tags": []
   },
   "source": [
    "## Obtener Similitudes a través de TF-IDF y Similitud del coseno"
   ]
  },
  {
   "cell_type": "code",
   "execution_count": null,
   "id": "b8d46b73-4f2a-4d58-af18-e4b3f4e90c83",
   "metadata": {},
   "outputs": [],
   "source": [
    "import pandas as pd\n",
    "import numpy as np\n",
    "\n",
    "from sklearn.feature_extraction.text import TfidfVectorizer\n",
    "from sklearn.metrics.pairwise import cosine_similarity\n",
    "from itertools import combinations\n",
    "\n",
    "# Leemos nuestros dataframes\n",
    "movies = pd.read_csv(\"./ml-latest-small/movies.csv\", sep=\",\")\n",
    "sinopsis = pd.read_csv(\"./ml-latest-small/sinopsisDB.csv\", sep=\",\")\n",
    "sinopsis = sinopsis.sort_values(by='movieId')"
   ]
  },
  {
   "cell_type": "code",
   "execution_count": null,
   "id": "a3aa9f24",
   "metadata": {
    "tags": []
   },
   "outputs": [],
   "source": [
    "# Partimos sinopsis en 5\n",
    "partes = np.array_split(sinopsis, 5)\n",
    "sinopsis1 = partes[0]\n",
    "sinopsis2 = partes[1]\n",
    "sinopsis3 = partes[2]\n",
    "sinopsis4 = partes[3]\n",
    "sinopsis5 = partes[4]\n",
    "\n",
    "# Exportamos estas sinopsis\n",
    "sinopsis1.to_csv('sinopsis1.csv', index=False)\n",
    "sinopsis2.to_csv('sinopsis2.csv', index=False)\n",
    "sinopsis3.to_csv('sinopsis3.csv', index=False)\n",
    "sinopsis4.to_csv('sinopsis4.csv', index=False)\n",
    "sinopsis5.to_csv('sinopsis5.csv', index=False)\n",
    "\n",
    "# Extraemos el año del título\n",
    "movies['year'] = movies.title.str.extract(\"\\((\\d{4})\\)\", expand=True)\n",
    "movies.year = pd.to_datetime(movies.year, format='%Y')\n",
    "movies.year = movies.year.dt.year\n",
    "movies.title = movies.title.str[:-7]"
   ]
  },
  {
   "cell_type": "code",
   "execution_count": null,
   "id": "202746a6",
   "metadata": {
    "tags": []
   },
   "outputs": [],
   "source": [
    "# TF-IDF para las diferentes combinaciones de géneros\n",
    "tfG = TfidfVectorizer(analyzer=lambda s: (c for i in range(1,4)\n",
    "                     for c in combinations(s.split('|'), r=i)))\n",
    "tfS = TfidfVectorizer(analyzer=lambda s: (c for i in range(1,4)\n",
    "                     for c in combinations(s.split(' '), r=i)))\n",
    "\n",
    "# Formamos nuestra matriz con los géneros\n",
    "matrizG = tfG.fit_transform(movies.genres)\n",
    "matrizS1 = tfS.fit_transform(sinopsis1.sinopsis)\n",
    "# Aplicamos a esta matriz la similitud del coseno\n",
    "similitudG = cosine_similarity(matrizG)\n",
    "similitudS1 = cosine_similarity(matrizS1)\n",
    "\n",
    "pd.DataFrame(similitudG).to_csv(\"similitudG.csv\", header=False, index=False)\n",
    "pd.DataFrame(similitudS1).to_csv(\"similitudS1.csv\", header=False, index=False)"
   ]
  },
  {
   "cell_type": "code",
   "execution_count": null,
   "id": "3a054692",
   "metadata": {
    "tags": []
   },
   "outputs": [],
   "source": [
    "matrizS2 = tfS.fit_transform(sinopsis2.sinopsis)\n",
    "similitudS2 = cosine_similarity(matrizS2)\n",
    "pd.DataFrame(similitudS2).to_csv(\"similitudS2.csv\", header=False, index=False)"
   ]
  },
  {
   "cell_type": "code",
   "execution_count": null,
   "id": "e4dd2aad-3a51-4ea9-8423-94f17caaeb9b",
   "metadata": {},
   "outputs": [],
   "source": [
    "matrizS3 = tfS.fit_transform(sinopsis3.sinopsis)\n",
    "similitudS3 = cosine_similarity(matrizS3)\n",
    "pd.DataFrame(similitudS3).to_csv(\"similitudS3.csv\", header=False, index=False)"
   ]
  },
  {
   "cell_type": "code",
   "execution_count": null,
   "id": "aaaeaf6b-29dd-4655-9811-270e15bc3021",
   "metadata": {},
   "outputs": [],
   "source": [
    "matrizS4 = tfS.fit_transform(sinopsis4.sinopsis)\n",
    "similitudS4 = cosine_similarity(matrizS4)\n",
    "pd.DataFrame(similitudS4).to_csv(\"similitudS4.csv\", header=False, index=False)"
   ]
  },
  {
   "cell_type": "code",
   "execution_count": null,
   "id": "8163a492-f13d-4386-9869-e8e16cf66078",
   "metadata": {},
   "outputs": [],
   "source": [
    "matrizS5 = tfS.fit_transform(sinopsis5.sinopsis)\n",
    "similitudS5 = cosine_similarity(matrizS5)\n",
    "pd.DataFrame(similitudS5).to_csv(\"similitudS5.csv\", header=False, index=False)"
   ]
  },
  {
   "cell_type": "code",
   "execution_count": null,
   "id": "2604fd06-6903-46f7-8432-8bef67124c76",
   "metadata": {},
   "outputs": [],
   "source": [
    "# Cargamos similitudes\n",
    "similitudG = pd.read_csv(\"./ml-latest-small/similitudG.csv\", sep=\",\")\n",
    "similitudS1 = pd.read_csv(\"./ml-latest-small/similitudS1.csv\", sep=\",\")\n",
    "similitudS2 = pd.read_csv(\"./ml-latest-small/similitudS2.csv\", sep=\",\")\n",
    "similitudS3 = pd.read_csv(\"./ml-latest-small/similitudS3.csv\", sep=\",\")\n",
    "similitudS4 = pd.read_csv(\"./ml-latest-small/similitudS4.csv\", sep=\",\")\n",
    "similitudS5 = pd.read_csv(\"./ml-latest-small/similitudS5.csv\", sep=\",\")\n",
    "\n",
    "# Creamos un DF con cada similitud\n",
    "similitud_dfG = pd.DataFrame(similitudG, index=movies['title'], columns=movies['title'])\n",
    "similitud_dfS1 = pd.DataFrame(similitudS1, index=movies['title'], columns=movies['title'])\n",
    "similitud_dfS2 = pd.DataFrame(similitudS2, index=movies['title'], columns=movies['title'])\n",
    "similitud_dfS3 = pd.DataFrame(similitudS3, index=movies['title'], columns=movies['title'])\n",
    "similitud_dfS4 = pd.DataFrame(similitudS4, index=movies['title'], columns=movies['title'])\n",
    "similitud_dfS5 = pd.DataFrame(similitudS5, index=movies['title'], columns=movies['title'])\n",
    "\n",
    "similitud_dfG.to_csv(\"./ml-latest-small/similitud_dfG.csv\", header=False, index=False)\n",
    "similitud_dfS1.to_csv(\"./ml-latest-small/similitud_dfS1.csv\", header=False, index=False)\n",
    "similitud_dfS2.to_csv(\"./ml-latest-small/similitud_dfS2.csv\", header=False, index=False)\n",
    "similitud_dfS3.to_csv(\"./ml-latest-small/similitud_dfS3.csv\", header=False, index=False)\n",
    "similitud_dfS4.to_csv(\"./ml-latest-small/similitud_dfS4.csv\", header=False, index=False)\n",
    "similitud_dfS5.to_csv(\"./ml-latest-small/similitud_dfS5.csv\", header=False, index=False)"
   ]
  },
  {
   "cell_type": "code",
   "execution_count": null,
   "id": "4d40af75-b39a-4faf-b0a3-d5b40140eadc",
   "metadata": {},
   "outputs": [],
   "source": []
  }
 ],
 "metadata": {
  "kernelspec": {
   "display_name": "Python 3",
   "language": "python",
   "name": "python3"
  },
  "language_info": {
   "codemirror_mode": {
    "name": "ipython",
    "version": 3
   },
   "file_extension": ".py",
   "mimetype": "text/x-python",
   "name": "python",
   "nbconvert_exporter": "python",
   "pygments_lexer": "ipython3",
   "version": "3.11.1"
  },
  "vscode": {
   "interpreter": {
    "hash": "e6daad019a07f1efc6fa41b98c988e099b16294d6e57a62a331580b94fb63e22"
   }
  }
 },
 "nbformat": 4,
 "nbformat_minor": 5
}

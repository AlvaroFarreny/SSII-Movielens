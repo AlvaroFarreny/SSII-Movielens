{
 "cells": [
  {
   "cell_type": "markdown",
   "id": "d4a5c510",
   "metadata": {},
   "source": [
    "# SSII - Práctica Final: Recomendador de películas con MovieLens"
   ]
  },
  {
   "cell_type": "markdown",
   "id": "e34996d8",
   "metadata": {},
   "source": [
    "## Grupo 1: Ignacio Gil, Álvaro Farreny y Carlos González"
   ]
  },
  {
   "cell_type": "code",
   "execution_count": 150,
   "id": "035d73e8-0c7b-405a-9ae9-5920f3224f3c",
   "metadata": {},
   "outputs": [],
   "source": [
    "\"\"\" pip install -U scikit-learn       \n",
    "    python -m pip install -U matplotlib\n",
    "    pip install seaborn \"\"\"\n",
    "\n",
    "import pandas as pd\n",
    "import numpy as np\n",
    "import matplotlib as plt\n",
    "%matplotlib inline\n",
    "import seaborn as sns\n",
    "import requests as rq\n",
    "import time\n",
    "import math\n",
    "import datetime\n",
    "\n",
    "from sklearn.neighbors import KNeighborsClassifier as knn\n",
    "from sklearn.metrics import confusion_matrix\n",
    "\n",
    "from bs4 import BeautifulSoup as bs"
   ]
  },
  {
   "cell_type": "code",
   "execution_count": 151,
   "id": "6eb88e60-5350-490d-a4a5-0c8c522bf4a7",
   "metadata": {},
   "outputs": [],
   "source": [
    "# Leemos nuestros dataframes\n",
    "movies = pd.read_csv(\"./ml-latest-small/movies.csv\", sep=\",\")\n",
    "ratings = pd.read_csv(\"./ml-latest-small/ratings.csv\", sep=\",\")\n",
    "tags = pd.read_csv(\"./ml-latest-small/tags.csv\", sep=\",\")\n",
    "links = pd.read_csv(\"./ml-latest-small/links.csv\", sep=\",\")\n",
    "\n",
    "# Eliminamos nuelos\n",
    "movies.dropna(inplace=True)\n",
    "ratings.dropna(inplace=True)\n",
    "tags.dropna(inplace=True)\n",
    "links.dropna(inplace=True)"
   ]
  },
  {
   "cell_type": "code",
   "execution_count": 152,
   "id": "ea6169ce",
   "metadata": {},
   "outputs": [],
   "source": [
    "# Extraemos el año del título\n",
    "movies['year'] = movies.title.str.extract(\"\\((\\d{4})\\)\", expand=True)\n",
    "movies.year = pd.to_datetime(movies.year, format='%Y')\n",
    "movies.year = movies.year.dt.year\n",
    "movies.title = movies.title.str[:-7]"
   ]
  },
  {
   "cell_type": "code",
   "execution_count": 153,
   "id": "baa8a570-b795-45c2-a371-f49559b998d8",
   "metadata": {},
   "outputs": [
    {
     "data": {
      "text/plain": [
       "\"# Separamos los géneros\\nmovies['genres'] = movies['genres'].str.split('|')\\ndfx = pd.get_dummies(pd.DataFrame(movies['genres'].tolist()).stack()).sum(level=0)\\nmovies = pd.concat([movies, dfx], axis=1).drop(columns=['genres'])\\n\\ngeneros = movies[['movieId', '(no genres listed)', 'Action', 'Adventure',\\n       'Animation', 'Children', 'Comedy', 'Crime', 'Documentary', 'Drama',\\n       'Fantasy', 'Film-Noir', 'Horror', 'IMAX', 'Musical', 'Mystery',\\n       'Romance', 'Sci-Fi', 'Thriller', 'War', 'Western']].copy()\""
      ]
     },
     "execution_count": 153,
     "metadata": {},
     "output_type": "execute_result"
    }
   ],
   "source": [
    "'''# Separamos los géneros\n",
    "movies['genres'] = movies['genres'].str.split('|')\n",
    "dfx = pd.get_dummies(pd.DataFrame(movies['genres'].tolist()).stack()).sum(level=0)\n",
    "movies = pd.concat([movies, dfx], axis=1).drop(columns=['genres'])\n",
    "\n",
    "generos = movies[['movieId', '(no genres listed)', 'Action', 'Adventure',\n",
    "       'Animation', 'Children', 'Comedy', 'Crime', 'Documentary', 'Drama',\n",
    "       'Fantasy', 'Film-Noir', 'Horror', 'IMAX', 'Musical', 'Mystery',\n",
    "       'Romance', 'Sci-Fi', 'Thriller', 'War', 'Western']].copy()'''"
   ]
  },
  {
   "cell_type": "code",
   "execution_count": 154,
   "id": "7bb63196-0e9f-4ff3-8dfe-4124594d048e",
   "metadata": {},
   "outputs": [
    {
     "data": {
      "text/html": [
       "<div>\n",
       "<style scoped>\n",
       "    .dataframe tbody tr th:only-of-type {\n",
       "        vertical-align: middle;\n",
       "    }\n",
       "\n",
       "    .dataframe tbody tr th {\n",
       "        vertical-align: top;\n",
       "    }\n",
       "\n",
       "    .dataframe thead th {\n",
       "        text-align: right;\n",
       "    }\n",
       "</style>\n",
       "<table border=\"1\" class=\"dataframe\">\n",
       "  <thead>\n",
       "    <tr style=\"text-align: right;\">\n",
       "      <th></th>\n",
       "      <th>movieId</th>\n",
       "      <th>title</th>\n",
       "      <th>genres</th>\n",
       "      <th>year</th>\n",
       "    </tr>\n",
       "  </thead>\n",
       "  <tbody>\n",
       "    <tr>\n",
       "      <th>0</th>\n",
       "      <td>1</td>\n",
       "      <td>Toy Story</td>\n",
       "      <td>Adventure|Animation|Children|Comedy|Fantasy</td>\n",
       "      <td>1995.0</td>\n",
       "    </tr>\n",
       "    <tr>\n",
       "      <th>1</th>\n",
       "      <td>2</td>\n",
       "      <td>Jumanji</td>\n",
       "      <td>Adventure|Children|Fantasy</td>\n",
       "      <td>1995.0</td>\n",
       "    </tr>\n",
       "    <tr>\n",
       "      <th>2</th>\n",
       "      <td>3</td>\n",
       "      <td>Grumpier Old Men</td>\n",
       "      <td>Comedy|Romance</td>\n",
       "      <td>1995.0</td>\n",
       "    </tr>\n",
       "    <tr>\n",
       "      <th>3</th>\n",
       "      <td>4</td>\n",
       "      <td>Waiting to Exhale</td>\n",
       "      <td>Comedy|Drama|Romance</td>\n",
       "      <td>1995.0</td>\n",
       "    </tr>\n",
       "    <tr>\n",
       "      <th>4</th>\n",
       "      <td>5</td>\n",
       "      <td>Father of the Bride Part II</td>\n",
       "      <td>Comedy</td>\n",
       "      <td>1995.0</td>\n",
       "    </tr>\n",
       "  </tbody>\n",
       "</table>\n",
       "</div>"
      ],
      "text/plain": [
       "   movieId                        title  \\\n",
       "0        1                    Toy Story   \n",
       "1        2                      Jumanji   \n",
       "2        3             Grumpier Old Men   \n",
       "3        4            Waiting to Exhale   \n",
       "4        5  Father of the Bride Part II   \n",
       "\n",
       "                                        genres    year  \n",
       "0  Adventure|Animation|Children|Comedy|Fantasy  1995.0  \n",
       "1                   Adventure|Children|Fantasy  1995.0  \n",
       "2                               Comedy|Romance  1995.0  \n",
       "3                         Comedy|Drama|Romance  1995.0  \n",
       "4                                       Comedy  1995.0  "
      ]
     },
     "execution_count": 154,
     "metadata": {},
     "output_type": "execute_result"
    }
   ],
   "source": [
    "movies.head()"
   ]
  },
  {
   "cell_type": "code",
   "execution_count": 155,
   "id": "b239b56f",
   "metadata": {},
   "outputs": [],
   "source": [
    "# Cambiamos los timestamps de ratings y tags de segundos a años\n",
    "ratings.timestamp = pd.to_datetime(ratings.timestamp, infer_datetime_format=True)\n",
    "ratings.timestamp = ratings.timestamp.dt.year\n",
    "\n",
    "tags.timestamp = pd.to_datetime(tags.timestamp, infer_datetime_format=True)\n",
    "tags.timestamp = tags.timestamp.dt.year"
   ]
  },
  {
   "cell_type": "code",
   "execution_count": 156,
   "id": "7b238ba2",
   "metadata": {},
   "outputs": [
    {
     "data": {
      "text/html": [
       "<div>\n",
       "<style scoped>\n",
       "    .dataframe tbody tr th:only-of-type {\n",
       "        vertical-align: middle;\n",
       "    }\n",
       "\n",
       "    .dataframe tbody tr th {\n",
       "        vertical-align: top;\n",
       "    }\n",
       "\n",
       "    .dataframe thead th {\n",
       "        text-align: right;\n",
       "    }\n",
       "</style>\n",
       "<table border=\"1\" class=\"dataframe\">\n",
       "  <thead>\n",
       "    <tr style=\"text-align: right;\">\n",
       "      <th></th>\n",
       "      <th>userId</th>\n",
       "      <th>movieId</th>\n",
       "      <th>rating</th>\n",
       "      <th>timestamp</th>\n",
       "    </tr>\n",
       "  </thead>\n",
       "  <tbody>\n",
       "    <tr>\n",
       "      <th>0</th>\n",
       "      <td>1</td>\n",
       "      <td>1</td>\n",
       "      <td>4.0</td>\n",
       "      <td>1970</td>\n",
       "    </tr>\n",
       "    <tr>\n",
       "      <th>1</th>\n",
       "      <td>1</td>\n",
       "      <td>3</td>\n",
       "      <td>4.0</td>\n",
       "      <td>1970</td>\n",
       "    </tr>\n",
       "    <tr>\n",
       "      <th>2</th>\n",
       "      <td>1</td>\n",
       "      <td>6</td>\n",
       "      <td>4.0</td>\n",
       "      <td>1970</td>\n",
       "    </tr>\n",
       "    <tr>\n",
       "      <th>3</th>\n",
       "      <td>1</td>\n",
       "      <td>47</td>\n",
       "      <td>5.0</td>\n",
       "      <td>1970</td>\n",
       "    </tr>\n",
       "    <tr>\n",
       "      <th>4</th>\n",
       "      <td>1</td>\n",
       "      <td>50</td>\n",
       "      <td>5.0</td>\n",
       "      <td>1970</td>\n",
       "    </tr>\n",
       "  </tbody>\n",
       "</table>\n",
       "</div>"
      ],
      "text/plain": [
       "   userId  movieId  rating  timestamp\n",
       "0       1        1     4.0       1970\n",
       "1       1        3     4.0       1970\n",
       "2       1        6     4.0       1970\n",
       "3       1       47     5.0       1970\n",
       "4       1       50     5.0       1970"
      ]
     },
     "execution_count": 156,
     "metadata": {},
     "output_type": "execute_result"
    }
   ],
   "source": [
    "ratings.head()"
   ]
  },
  {
   "cell_type": "code",
   "execution_count": 157,
   "id": "670a705d",
   "metadata": {},
   "outputs": [
    {
     "data": {
      "text/html": [
       "<div>\n",
       "<style scoped>\n",
       "    .dataframe tbody tr th:only-of-type {\n",
       "        vertical-align: middle;\n",
       "    }\n",
       "\n",
       "    .dataframe tbody tr th {\n",
       "        vertical-align: top;\n",
       "    }\n",
       "\n",
       "    .dataframe thead th {\n",
       "        text-align: right;\n",
       "    }\n",
       "</style>\n",
       "<table border=\"1\" class=\"dataframe\">\n",
       "  <thead>\n",
       "    <tr style=\"text-align: right;\">\n",
       "      <th></th>\n",
       "      <th>userId</th>\n",
       "      <th>movieId</th>\n",
       "      <th>tag</th>\n",
       "      <th>timestamp</th>\n",
       "    </tr>\n",
       "  </thead>\n",
       "  <tbody>\n",
       "    <tr>\n",
       "      <th>0</th>\n",
       "      <td>2</td>\n",
       "      <td>60756</td>\n",
       "      <td>funny</td>\n",
       "      <td>1970</td>\n",
       "    </tr>\n",
       "    <tr>\n",
       "      <th>1</th>\n",
       "      <td>2</td>\n",
       "      <td>60756</td>\n",
       "      <td>Highly quotable</td>\n",
       "      <td>1970</td>\n",
       "    </tr>\n",
       "    <tr>\n",
       "      <th>2</th>\n",
       "      <td>2</td>\n",
       "      <td>60756</td>\n",
       "      <td>will ferrell</td>\n",
       "      <td>1970</td>\n",
       "    </tr>\n",
       "    <tr>\n",
       "      <th>3</th>\n",
       "      <td>2</td>\n",
       "      <td>89774</td>\n",
       "      <td>Boxing story</td>\n",
       "      <td>1970</td>\n",
       "    </tr>\n",
       "    <tr>\n",
       "      <th>4</th>\n",
       "      <td>2</td>\n",
       "      <td>89774</td>\n",
       "      <td>MMA</td>\n",
       "      <td>1970</td>\n",
       "    </tr>\n",
       "  </tbody>\n",
       "</table>\n",
       "</div>"
      ],
      "text/plain": [
       "   userId  movieId              tag  timestamp\n",
       "0       2    60756            funny       1970\n",
       "1       2    60756  Highly quotable       1970\n",
       "2       2    60756     will ferrell       1970\n",
       "3       2    89774     Boxing story       1970\n",
       "4       2    89774              MMA       1970"
      ]
     },
     "execution_count": 157,
     "metadata": {},
     "output_type": "execute_result"
    }
   ],
   "source": [
    "tags.head()"
   ]
  },
  {
   "cell_type": "code",
   "execution_count": 158,
   "id": "15495b4b",
   "metadata": {},
   "outputs": [
    {
     "data": {
      "text/html": [
       "<div>\n",
       "<style scoped>\n",
       "    .dataframe tbody tr th:only-of-type {\n",
       "        vertical-align: middle;\n",
       "    }\n",
       "\n",
       "    .dataframe tbody tr th {\n",
       "        vertical-align: top;\n",
       "    }\n",
       "\n",
       "    .dataframe thead th {\n",
       "        text-align: right;\n",
       "    }\n",
       "</style>\n",
       "<table border=\"1\" class=\"dataframe\">\n",
       "  <thead>\n",
       "    <tr style=\"text-align: right;\">\n",
       "      <th></th>\n",
       "      <th>movieId</th>\n",
       "      <th>imdbId</th>\n",
       "      <th>tmdbId</th>\n",
       "    </tr>\n",
       "  </thead>\n",
       "  <tbody>\n",
       "    <tr>\n",
       "      <th>0</th>\n",
       "      <td>1</td>\n",
       "      <td>114709</td>\n",
       "      <td>862.0</td>\n",
       "    </tr>\n",
       "    <tr>\n",
       "      <th>1</th>\n",
       "      <td>2</td>\n",
       "      <td>113497</td>\n",
       "      <td>8844.0</td>\n",
       "    </tr>\n",
       "    <tr>\n",
       "      <th>2</th>\n",
       "      <td>3</td>\n",
       "      <td>113228</td>\n",
       "      <td>15602.0</td>\n",
       "    </tr>\n",
       "    <tr>\n",
       "      <th>3</th>\n",
       "      <td>4</td>\n",
       "      <td>114885</td>\n",
       "      <td>31357.0</td>\n",
       "    </tr>\n",
       "    <tr>\n",
       "      <th>4</th>\n",
       "      <td>5</td>\n",
       "      <td>113041</td>\n",
       "      <td>11862.0</td>\n",
       "    </tr>\n",
       "  </tbody>\n",
       "</table>\n",
       "</div>"
      ],
      "text/plain": [
       "   movieId  imdbId   tmdbId\n",
       "0        1  114709    862.0\n",
       "1        2  113497   8844.0\n",
       "2        3  113228  15602.0\n",
       "3        4  114885  31357.0\n",
       "4        5  113041  11862.0"
      ]
     },
     "execution_count": 158,
     "metadata": {},
     "output_type": "execute_result"
    }
   ],
   "source": [
    "links.head()"
   ]
  },
  {
   "cell_type": "code",
   "execution_count": 159,
   "id": "defc8241",
   "metadata": {},
   "outputs": [
    {
     "data": {
      "text/plain": [
       "\"tfidf = TfidfVectorizer()\\nmatriz = tfidf.fit_transform(generos)\\ncosine_sim = cosine_similarity(matriz)\\nindices = pd.Series(movies.index, index = movies['title']).drop_duplicates()\\n\\ntfidf = TfidfVectorizer(stop_words = 'english')\\nmatriz = tfidf.fit_transform(generos)\\nsimilitud_coseno = linear_kernel(matriz, matriz)\\nindices = pd.Series(movies.index, index = movies['title']).drop_duplicates()\\n\\ntfidf = TfidfVectorizer(stop_words = 'english')\\ntags['tag'] = tags['tag'].fillna('')\\nmatriz = tfidf.fit_transform(tags['tag'])\\nsimilitud_coseno = linear_kernel(matriz, matriz)\\nindices = pd.Series(movies.index, index = movies['title']).drop_duplicates()\""
      ]
     },
     "execution_count": 159,
     "metadata": {},
     "output_type": "execute_result"
    }
   ],
   "source": [
    "from sklearn.feature_extraction.text import TfidfVectorizer\n",
    "from sklearn.metrics.pairwise import linear_kernel\n",
    "from sklearn.metrics.pairwise import cosine_similarity\n",
    "from itertools import combinations\n",
    "\n",
    "tf = TfidfVectorizer(analyzer=lambda s: (c for i in range(1,4)\n",
    "                     for c in combinations(s.split('|'), r=i)))\n",
    "matriz = tf.fit_transform(movies.genres)\n",
    "cosine_sim = cosine_similarity(matriz)\n",
    "cosine_sim_df = pd.DataFrame(cosine_sim, index=movies['title'], columns=movies['title'])\n",
    "\n",
    "'''tfidf = TfidfVectorizer()\n",
    "matriz = tfidf.fit_transform(generos)\n",
    "cosine_sim = cosine_similarity(matriz)\n",
    "indices = pd.Series(movies.index, index = movies['title']).drop_duplicates()\n",
    "\n",
    "tfidf = TfidfVectorizer(stop_words = 'english')\n",
    "matriz = tfidf.fit_transform(generos)\n",
    "similitud_coseno = linear_kernel(matriz, matriz)\n",
    "indices = pd.Series(movies.index, index = movies['title']).drop_duplicates()\n",
    "\n",
    "tfidf = TfidfVectorizer(stop_words = 'english')\n",
    "tags['tag'] = tags['tag'].fillna('')\n",
    "matriz = tfidf.fit_transform(tags['tag'])\n",
    "similitud_coseno = linear_kernel(matriz, matriz)\n",
    "indices = pd.Series(movies.index, index = movies['title']).drop_duplicates()'''"
   ]
  },
  {
   "cell_type": "code",
   "execution_count": 160,
   "id": "8bc930a4",
   "metadata": {},
   "outputs": [
    {
     "data": {
      "text/plain": [
       "\"def recomendar(title, similitud_coseno = cosine_sim):\\n    idx = indices[title]\\n    sim_scores = list(enumerate(similitud_coseno[idx]))\\n    sim_scores = sorted(sim_scores, key=lambda x: x[1], reverse=True)\\n    sim_scores = sim_scores[0:6]\\n    movie_inx = [i[0] for i in sim_scores]\\n    #if indices[title] != movies['title']:\\n    return movies['title'].iloc[movie_inx]\""
      ]
     },
     "execution_count": 160,
     "metadata": {},
     "output_type": "execute_result"
    }
   ],
   "source": [
    "def genre_recommendations(i, M, items, k=10):\n",
    "    \"\"\"\n",
    "    Recommends movies based on a similarity dataframe\n",
    "\n",
    "    Parameters\n",
    "    ----------\n",
    "    i : str\n",
    "        Movie (index of the similarity dataframe)\n",
    "    M : pd.DataFrame\n",
    "        Similarity dataframe, symmetric, with movies as indices and columns\n",
    "    items : pd.DataFrame\n",
    "        Contains both the title and some other features used to define similarity\n",
    "    k : int\n",
    "        Amount of recommendations to return\n",
    "\n",
    "    \"\"\"\n",
    "    ix = M.loc[:,i].to_numpy().argpartition(range(-1,-k,-1))\n",
    "    closest = M.columns[ix[-1:-(k+2):-1]]\n",
    "    closest = closest.drop(i, errors='ignore')\n",
    "    return pd.DataFrame(closest).merge(items).head(k)"
   ]
  },
  {
   "cell_type": "code",
   "execution_count": 162,
   "id": "4ad42afc",
   "metadata": {},
   "outputs": [
    {
     "data": {
      "text/html": [
       "<div>\n",
       "<style scoped>\n",
       "    .dataframe tbody tr th:only-of-type {\n",
       "        vertical-align: middle;\n",
       "    }\n",
       "\n",
       "    .dataframe tbody tr th {\n",
       "        vertical-align: top;\n",
       "    }\n",
       "\n",
       "    .dataframe thead th {\n",
       "        text-align: right;\n",
       "    }\n",
       "</style>\n",
       "<table border=\"1\" class=\"dataframe\">\n",
       "  <thead>\n",
       "    <tr style=\"text-align: right;\">\n",
       "      <th></th>\n",
       "      <th>title</th>\n",
       "      <th>genres</th>\n",
       "    </tr>\n",
       "  </thead>\n",
       "  <tbody>\n",
       "    <tr>\n",
       "      <th>0</th>\n",
       "      <td>A.I. Artificial Intelligence</td>\n",
       "      <td>Adventure|Drama|Sci-Fi</td>\n",
       "    </tr>\n",
       "    <tr>\n",
       "      <th>1</th>\n",
       "      <td>The Martian</td>\n",
       "      <td>Adventure|Drama|Sci-Fi</td>\n",
       "    </tr>\n",
       "    <tr>\n",
       "      <th>2</th>\n",
       "      <td>Star Trek: Generations</td>\n",
       "      <td>Adventure|Drama|Sci-Fi</td>\n",
       "    </tr>\n",
       "    <tr>\n",
       "      <th>3</th>\n",
       "      <td>20,000 Leagues Under the Sea</td>\n",
       "      <td>Adventure|Drama|Sci-Fi</td>\n",
       "    </tr>\n",
       "    <tr>\n",
       "      <th>4</th>\n",
       "      <td>20,000 Leagues Under the Sea</td>\n",
       "      <td>Action|Adventure|Sci-Fi</td>\n",
       "    </tr>\n",
       "    <tr>\n",
       "      <th>5</th>\n",
       "      <td>Close Encounters of the Third Kind</td>\n",
       "      <td>Adventure|Drama|Sci-Fi</td>\n",
       "    </tr>\n",
       "    <tr>\n",
       "      <th>6</th>\n",
       "      <td>Philadelphia Experiment, The</td>\n",
       "      <td>Adventure|Drama|Sci-Fi</td>\n",
       "    </tr>\n",
       "    <tr>\n",
       "      <th>7</th>\n",
       "      <td>Day of the Doctor, The</td>\n",
       "      <td>Adventure|Drama|Sci-Fi</td>\n",
       "    </tr>\n",
       "    <tr>\n",
       "      <th>8</th>\n",
       "      <td>Enemy Mine</td>\n",
       "      <td>Adventure|Drama|Sci-Fi</td>\n",
       "    </tr>\n",
       "    <tr>\n",
       "      <th>9</th>\n",
       "      <td>Until the End of the World (Bis ans Ende der W...</td>\n",
       "      <td>Adventure|Drama|Sci-Fi</td>\n",
       "    </tr>\n",
       "  </tbody>\n",
       "</table>\n",
       "</div>"
      ],
      "text/plain": [
       "                                               title                   genres\n",
       "0                       A.I. Artificial Intelligence   Adventure|Drama|Sci-Fi\n",
       "1                                        The Martian   Adventure|Drama|Sci-Fi\n",
       "2                             Star Trek: Generations   Adventure|Drama|Sci-Fi\n",
       "3                       20,000 Leagues Under the Sea   Adventure|Drama|Sci-Fi\n",
       "4                       20,000 Leagues Under the Sea  Action|Adventure|Sci-Fi\n",
       "5                 Close Encounters of the Third Kind   Adventure|Drama|Sci-Fi\n",
       "6                       Philadelphia Experiment, The   Adventure|Drama|Sci-Fi\n",
       "7                             Day of the Doctor, The   Adventure|Drama|Sci-Fi\n",
       "8                                         Enemy Mine   Adventure|Drama|Sci-Fi\n",
       "9  Until the End of the World (Bis ans Ende der W...   Adventure|Drama|Sci-Fi"
      ]
     },
     "execution_count": 162,
     "metadata": {},
     "output_type": "execute_result"
    }
   ],
   "source": [
    "genre_recommendations('2001: A Space Odyssey', cosine_sim_df, movies[['title', 'genres']])"
   ]
  },
  {
   "cell_type": "code",
   "execution_count": null,
   "id": "197f4d0d",
   "metadata": {},
   "outputs": [],
   "source": []
  }
 ],
 "metadata": {
  "kernelspec": {
   "display_name": "Python 3",
   "language": "python",
   "name": "python3"
  },
  "language_info": {
   "codemirror_mode": {
    "name": "ipython",
    "version": 3
   },
   "file_extension": ".py",
   "mimetype": "text/x-python",
   "name": "python",
   "nbconvert_exporter": "python",
   "pygments_lexer": "ipython3",
   "version": "3.8.8"
  },
  "vscode": {
   "interpreter": {
    "hash": "0b68efdc46170d6c09df60c6e5c3ac1fd6e4d81b7dc57d0973e266a35e3256e4"
   }
  }
 },
 "nbformat": 4,
 "nbformat_minor": 5
}

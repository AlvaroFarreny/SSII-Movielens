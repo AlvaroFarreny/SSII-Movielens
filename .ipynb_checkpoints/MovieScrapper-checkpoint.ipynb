{
 "cells": [
  {
   "cell_type": "markdown",
   "id": "2aba869f-1118-4423-a68c-028d4a014c6e",
   "metadata": {},
   "source": [
    "### Scraping IMDB"
   ]
  },
  {
   "cell_type": "code",
   "execution_count": 1,
   "id": "e21c3a8a-edfc-4f9b-8920-da88abe4066c",
   "metadata": {
    "tags": []
   },
   "outputs": [],
   "source": [
    "import pandas as pd\n",
    "from bs4 import BeautifulSoup as bs\n",
    "from selenium import webdriver\n",
    "from selenium.webdriver.common.by import By\n",
    "from selenium.webdriver.chrome.options import Options\n",
    "from selenium.webdriver.common.keys import Keys\n",
    "from selenium.common.exceptions import NoSuchElementException\n",
    "from webdriver_manager.chrome import ChromeDriverManager"
   ]
  },
  {
   "cell_type": "code",
   "execution_count": 2,
   "id": "8e3d11cf-cbf6-477f-a83e-03af13c21fee",
   "metadata": {},
   "outputs": [],
   "source": [
    "# Leemos nuestros dataframes\n",
    "movies = pd.read_csv(\"./ml-latest-small/movies.csv\", sep=\",\")\n",
    "ratings = pd.read_csv(\"./ml-latest-small/ratings.csv\", sep=\",\")\n",
    "tags = pd.read_csv(\"./ml-latest-small/tags.csv\", sep=\",\")\n",
    "links = pd.read_csv(\"./ml-latest-small/links.csv\", sep=\",\")\n",
    "\n",
    "# Eliminamos nuelos\n",
    "movies.dropna(inplace=True)\n",
    "ratings.dropna(inplace=True)\n",
    "tags.dropna(inplace=True)\n",
    "links.dropna(inplace=True)\n",
    "\n",
    "# Extraemos el año del título\n",
    "movies['year'] = movies.title.str.extract(\"\\((\\d{4})\\)\", expand=True)\n",
    "movies.year = pd.to_datetime(movies.year, format='%Y')\n",
    "movies.year = movies.year.dt.year\n",
    "movies.title = movies.title.str[:-7]"
   ]
  },
  {
   "cell_type": "code",
   "execution_count": 8,
   "id": "744c9a26-26ee-4a30-b98a-3b35476109be",
   "metadata": {
    "tags": []
   },
   "outputs": [
    {
     "name": "stderr",
     "output_type": "stream",
     "text": [
      "C:\\Users\\Usuario\\AppData\\Local\\Temp\\ipykernel_9468\\264980796.py:19: DeprecationWarning: use options instead of chrome_options\n",
      "  driver = webdriver.Chrome(chrome_options=chrome_options)\n",
      "C:\\Users\\Usuario\\AppData\\Local\\Temp\\ipykernel_9468\\264980796.py:28: FutureWarning: The frame.append method is deprecated and will be removed from pandas in a future version. Use pandas.concat instead.\n",
      "  nuestradatabase = nuestradatabase.append({'moveId':moveiid,'sinopsis':sinopsis}, ignore_index=True)\n",
      "C:\\Users\\Usuario\\AppData\\Local\\Temp\\ipykernel_9468\\264980796.py:19: DeprecationWarning: use options instead of chrome_options\n",
      "  driver = webdriver.Chrome(chrome_options=chrome_options)\n"
     ]
    },
    {
     "name": "stdout",
     "output_type": "stream",
     "text": [
      "1/9742\n"
     ]
    },
    {
     "name": "stderr",
     "output_type": "stream",
     "text": [
      "C:\\Users\\Usuario\\AppData\\Local\\Temp\\ipykernel_9468\\264980796.py:28: FutureWarning: The frame.append method is deprecated and will be removed from pandas in a future version. Use pandas.concat instead.\n",
      "  nuestradatabase = nuestradatabase.append({'moveId':moveiid,'sinopsis':sinopsis}, ignore_index=True)\n",
      "C:\\Users\\Usuario\\AppData\\Local\\Temp\\ipykernel_9468\\264980796.py:19: DeprecationWarning: use options instead of chrome_options\n",
      "  driver = webdriver.Chrome(chrome_options=chrome_options)\n"
     ]
    },
    {
     "name": "stdout",
     "output_type": "stream",
     "text": [
      "2/9742\n"
     ]
    },
    {
     "name": "stderr",
     "output_type": "stream",
     "text": [
      "C:\\Users\\Usuario\\AppData\\Local\\Temp\\ipykernel_9468\\264980796.py:28: FutureWarning: The frame.append method is deprecated and will be removed from pandas in a future version. Use pandas.concat instead.\n",
      "  nuestradatabase = nuestradatabase.append({'moveId':moveiid,'sinopsis':sinopsis}, ignore_index=True)\n",
      "C:\\Users\\Usuario\\AppData\\Local\\Temp\\ipykernel_9468\\264980796.py:19: DeprecationWarning: use options instead of chrome_options\n",
      "  driver = webdriver.Chrome(chrome_options=chrome_options)\n"
     ]
    },
    {
     "name": "stdout",
     "output_type": "stream",
     "text": [
      "3/9742\n"
     ]
    },
    {
     "name": "stderr",
     "output_type": "stream",
     "text": [
      "C:\\Users\\Usuario\\AppData\\Local\\Temp\\ipykernel_9468\\264980796.py:28: FutureWarning: The frame.append method is deprecated and will be removed from pandas in a future version. Use pandas.concat instead.\n",
      "  nuestradatabase = nuestradatabase.append({'moveId':moveiid,'sinopsis':sinopsis}, ignore_index=True)\n",
      "C:\\Users\\Usuario\\AppData\\Local\\Temp\\ipykernel_9468\\264980796.py:19: DeprecationWarning: use options instead of chrome_options\n",
      "  driver = webdriver.Chrome(chrome_options=chrome_options)\n"
     ]
    },
    {
     "name": "stdout",
     "output_type": "stream",
     "text": [
      "4/9742\n"
     ]
    },
    {
     "name": "stderr",
     "output_type": "stream",
     "text": [
      "C:\\Users\\Usuario\\AppData\\Local\\Temp\\ipykernel_9468\\264980796.py:28: FutureWarning: The frame.append method is deprecated and will be removed from pandas in a future version. Use pandas.concat instead.\n",
      "  nuestradatabase = nuestradatabase.append({'moveId':moveiid,'sinopsis':sinopsis}, ignore_index=True)\n",
      "C:\\Users\\Usuario\\AppData\\Local\\Temp\\ipykernel_9468\\264980796.py:19: DeprecationWarning: use options instead of chrome_options\n",
      "  driver = webdriver.Chrome(chrome_options=chrome_options)\n"
     ]
    },
    {
     "name": "stdout",
     "output_type": "stream",
     "text": [
      "5/9742\n"
     ]
    },
    {
     "name": "stderr",
     "output_type": "stream",
     "text": [
      "C:\\Users\\Usuario\\AppData\\Local\\Temp\\ipykernel_9468\\264980796.py:28: FutureWarning: The frame.append method is deprecated and will be removed from pandas in a future version. Use pandas.concat instead.\n",
      "  nuestradatabase = nuestradatabase.append({'moveId':moveiid,'sinopsis':sinopsis}, ignore_index=True)\n",
      "C:\\Users\\Usuario\\AppData\\Local\\Temp\\ipykernel_9468\\264980796.py:19: DeprecationWarning: use options instead of chrome_options\n",
      "  driver = webdriver.Chrome(chrome_options=chrome_options)\n"
     ]
    },
    {
     "name": "stdout",
     "output_type": "stream",
     "text": [
      "6/9742\n"
     ]
    },
    {
     "name": "stderr",
     "output_type": "stream",
     "text": [
      "C:\\Users\\Usuario\\AppData\\Local\\Temp\\ipykernel_9468\\264980796.py:28: FutureWarning: The frame.append method is deprecated and will be removed from pandas in a future version. Use pandas.concat instead.\n",
      "  nuestradatabase = nuestradatabase.append({'moveId':moveiid,'sinopsis':sinopsis}, ignore_index=True)\n",
      "C:\\Users\\Usuario\\AppData\\Local\\Temp\\ipykernel_9468\\264980796.py:19: DeprecationWarning: use options instead of chrome_options\n",
      "  driver = webdriver.Chrome(chrome_options=chrome_options)\n"
     ]
    },
    {
     "name": "stdout",
     "output_type": "stream",
     "text": [
      "7/9742\n"
     ]
    },
    {
     "name": "stderr",
     "output_type": "stream",
     "text": [
      "C:\\Users\\Usuario\\AppData\\Local\\Temp\\ipykernel_9468\\264980796.py:28: FutureWarning: The frame.append method is deprecated and will be removed from pandas in a future version. Use pandas.concat instead.\n",
      "  nuestradatabase = nuestradatabase.append({'moveId':moveiid,'sinopsis':sinopsis}, ignore_index=True)\n",
      "C:\\Users\\Usuario\\AppData\\Local\\Temp\\ipykernel_9468\\264980796.py:19: DeprecationWarning: use options instead of chrome_options\n",
      "  driver = webdriver.Chrome(chrome_options=chrome_options)\n"
     ]
    },
    {
     "name": "stdout",
     "output_type": "stream",
     "text": [
      "8/9742\n"
     ]
    },
    {
     "name": "stderr",
     "output_type": "stream",
     "text": [
      "C:\\Users\\Usuario\\AppData\\Local\\Temp\\ipykernel_9468\\264980796.py:28: FutureWarning: The frame.append method is deprecated and will be removed from pandas in a future version. Use pandas.concat instead.\n",
      "  nuestradatabase = nuestradatabase.append({'moveId':moveiid,'sinopsis':sinopsis}, ignore_index=True)\n",
      "C:\\Users\\Usuario\\AppData\\Local\\Temp\\ipykernel_9468\\264980796.py:19: DeprecationWarning: use options instead of chrome_options\n",
      "  driver = webdriver.Chrome(chrome_options=chrome_options)\n"
     ]
    },
    {
     "name": "stdout",
     "output_type": "stream",
     "text": [
      "9/9742\n"
     ]
    },
    {
     "name": "stderr",
     "output_type": "stream",
     "text": [
      "C:\\Users\\Usuario\\AppData\\Local\\Temp\\ipykernel_9468\\264980796.py:28: FutureWarning: The frame.append method is deprecated and will be removed from pandas in a future version. Use pandas.concat instead.\n",
      "  nuestradatabase = nuestradatabase.append({'moveId':moveiid,'sinopsis':sinopsis}, ignore_index=True)\n",
      "C:\\Users\\Usuario\\AppData\\Local\\Temp\\ipykernel_9468\\264980796.py:19: DeprecationWarning: use options instead of chrome_options\n",
      "  driver = webdriver.Chrome(chrome_options=chrome_options)\n"
     ]
    },
    {
     "name": "stdout",
     "output_type": "stream",
     "text": [
      "10/9742\n"
     ]
    },
    {
     "name": "stderr",
     "output_type": "stream",
     "text": [
      "C:\\Users\\Usuario\\AppData\\Local\\Temp\\ipykernel_9468\\264980796.py:28: FutureWarning: The frame.append method is deprecated and will be removed from pandas in a future version. Use pandas.concat instead.\n",
      "  nuestradatabase = nuestradatabase.append({'moveId':moveiid,'sinopsis':sinopsis}, ignore_index=True)\n",
      "C:\\Users\\Usuario\\AppData\\Local\\Temp\\ipykernel_9468\\264980796.py:19: DeprecationWarning: use options instead of chrome_options\n",
      "  driver = webdriver.Chrome(chrome_options=chrome_options)\n"
     ]
    },
    {
     "name": "stdout",
     "output_type": "stream",
     "text": [
      "11/9742\n"
     ]
    },
    {
     "name": "stderr",
     "output_type": "stream",
     "text": [
      "C:\\Users\\Usuario\\AppData\\Local\\Temp\\ipykernel_9468\\264980796.py:28: FutureWarning: The frame.append method is deprecated and will be removed from pandas in a future version. Use pandas.concat instead.\n",
      "  nuestradatabase = nuestradatabase.append({'moveId':moveiid,'sinopsis':sinopsis}, ignore_index=True)\n",
      "C:\\Users\\Usuario\\AppData\\Local\\Temp\\ipykernel_9468\\264980796.py:19: DeprecationWarning: use options instead of chrome_options\n",
      "  driver = webdriver.Chrome(chrome_options=chrome_options)\n"
     ]
    },
    {
     "name": "stdout",
     "output_type": "stream",
     "text": [
      "12/9742\n"
     ]
    },
    {
     "name": "stderr",
     "output_type": "stream",
     "text": [
      "C:\\Users\\Usuario\\AppData\\Local\\Temp\\ipykernel_9468\\264980796.py:28: FutureWarning: The frame.append method is deprecated and will be removed from pandas in a future version. Use pandas.concat instead.\n",
      "  nuestradatabase = nuestradatabase.append({'moveId':moveiid,'sinopsis':sinopsis}, ignore_index=True)\n",
      "C:\\Users\\Usuario\\AppData\\Local\\Temp\\ipykernel_9468\\264980796.py:19: DeprecationWarning: use options instead of chrome_options\n",
      "  driver = webdriver.Chrome(chrome_options=chrome_options)\n"
     ]
    },
    {
     "name": "stdout",
     "output_type": "stream",
     "text": [
      "13/9742\n"
     ]
    },
    {
     "name": "stderr",
     "output_type": "stream",
     "text": [
      "C:\\Users\\Usuario\\AppData\\Local\\Temp\\ipykernel_9468\\264980796.py:28: FutureWarning: The frame.append method is deprecated and will be removed from pandas in a future version. Use pandas.concat instead.\n",
      "  nuestradatabase = nuestradatabase.append({'moveId':moveiid,'sinopsis':sinopsis}, ignore_index=True)\n",
      "C:\\Users\\Usuario\\AppData\\Local\\Temp\\ipykernel_9468\\264980796.py:19: DeprecationWarning: use options instead of chrome_options\n",
      "  driver = webdriver.Chrome(chrome_options=chrome_options)\n"
     ]
    },
    {
     "name": "stdout",
     "output_type": "stream",
     "text": [
      "14/9742\n"
     ]
    },
    {
     "name": "stderr",
     "output_type": "stream",
     "text": [
      "C:\\Users\\Usuario\\AppData\\Local\\Temp\\ipykernel_9468\\264980796.py:28: FutureWarning: The frame.append method is deprecated and will be removed from pandas in a future version. Use pandas.concat instead.\n",
      "  nuestradatabase = nuestradatabase.append({'moveId':moveiid,'sinopsis':sinopsis}, ignore_index=True)\n",
      "C:\\Users\\Usuario\\AppData\\Local\\Temp\\ipykernel_9468\\264980796.py:19: DeprecationWarning: use options instead of chrome_options\n",
      "  driver = webdriver.Chrome(chrome_options=chrome_options)\n"
     ]
    },
    {
     "name": "stdout",
     "output_type": "stream",
     "text": [
      "15/9742\n"
     ]
    },
    {
     "name": "stderr",
     "output_type": "stream",
     "text": [
      "C:\\Users\\Usuario\\AppData\\Local\\Temp\\ipykernel_9468\\264980796.py:28: FutureWarning: The frame.append method is deprecated and will be removed from pandas in a future version. Use pandas.concat instead.\n",
      "  nuestradatabase = nuestradatabase.append({'moveId':moveiid,'sinopsis':sinopsis}, ignore_index=True)\n",
      "C:\\Users\\Usuario\\AppData\\Local\\Temp\\ipykernel_9468\\264980796.py:19: DeprecationWarning: use options instead of chrome_options\n",
      "  driver = webdriver.Chrome(chrome_options=chrome_options)\n"
     ]
    },
    {
     "name": "stdout",
     "output_type": "stream",
     "text": [
      "16/9742\n"
     ]
    },
    {
     "name": "stderr",
     "output_type": "stream",
     "text": [
      "C:\\Users\\Usuario\\AppData\\Local\\Temp\\ipykernel_9468\\264980796.py:28: FutureWarning: The frame.append method is deprecated and will be removed from pandas in a future version. Use pandas.concat instead.\n",
      "  nuestradatabase = nuestradatabase.append({'moveId':moveiid,'sinopsis':sinopsis}, ignore_index=True)\n",
      "C:\\Users\\Usuario\\AppData\\Local\\Temp\\ipykernel_9468\\264980796.py:19: DeprecationWarning: use options instead of chrome_options\n",
      "  driver = webdriver.Chrome(chrome_options=chrome_options)\n"
     ]
    },
    {
     "name": "stdout",
     "output_type": "stream",
     "text": [
      "17/9742\n"
     ]
    },
    {
     "name": "stderr",
     "output_type": "stream",
     "text": [
      "C:\\Users\\Usuario\\AppData\\Local\\Temp\\ipykernel_9468\\264980796.py:28: FutureWarning: The frame.append method is deprecated and will be removed from pandas in a future version. Use pandas.concat instead.\n",
      "  nuestradatabase = nuestradatabase.append({'moveId':moveiid,'sinopsis':sinopsis}, ignore_index=True)\n",
      "C:\\Users\\Usuario\\AppData\\Local\\Temp\\ipykernel_9468\\264980796.py:19: DeprecationWarning: use options instead of chrome_options\n",
      "  driver = webdriver.Chrome(chrome_options=chrome_options)\n"
     ]
    },
    {
     "name": "stdout",
     "output_type": "stream",
     "text": [
      "18/9742\n"
     ]
    },
    {
     "name": "stderr",
     "output_type": "stream",
     "text": [
      "C:\\Users\\Usuario\\AppData\\Local\\Temp\\ipykernel_9468\\264980796.py:28: FutureWarning: The frame.append method is deprecated and will be removed from pandas in a future version. Use pandas.concat instead.\n",
      "  nuestradatabase = nuestradatabase.append({'moveId':moveiid,'sinopsis':sinopsis}, ignore_index=True)\n",
      "C:\\Users\\Usuario\\AppData\\Local\\Temp\\ipykernel_9468\\264980796.py:19: DeprecationWarning: use options instead of chrome_options\n",
      "  driver = webdriver.Chrome(chrome_options=chrome_options)\n"
     ]
    },
    {
     "name": "stdout",
     "output_type": "stream",
     "text": [
      "19/9742\n"
     ]
    },
    {
     "name": "stderr",
     "output_type": "stream",
     "text": [
      "C:\\Users\\Usuario\\AppData\\Local\\Temp\\ipykernel_9468\\264980796.py:28: FutureWarning: The frame.append method is deprecated and will be removed from pandas in a future version. Use pandas.concat instead.\n",
      "  nuestradatabase = nuestradatabase.append({'moveId':moveiid,'sinopsis':sinopsis}, ignore_index=True)\n",
      "C:\\Users\\Usuario\\AppData\\Local\\Temp\\ipykernel_9468\\264980796.py:19: DeprecationWarning: use options instead of chrome_options\n",
      "  driver = webdriver.Chrome(chrome_options=chrome_options)\n"
     ]
    },
    {
     "name": "stdout",
     "output_type": "stream",
     "text": [
      "20/9742\n"
     ]
    },
    {
     "name": "stderr",
     "output_type": "stream",
     "text": [
      "C:\\Users\\Usuario\\AppData\\Local\\Temp\\ipykernel_9468\\264980796.py:28: FutureWarning: The frame.append method is deprecated and will be removed from pandas in a future version. Use pandas.concat instead.\n",
      "  nuestradatabase = nuestradatabase.append({'moveId':moveiid,'sinopsis':sinopsis}, ignore_index=True)\n",
      "C:\\Users\\Usuario\\AppData\\Local\\Temp\\ipykernel_9468\\264980796.py:19: DeprecationWarning: use options instead of chrome_options\n",
      "  driver = webdriver.Chrome(chrome_options=chrome_options)\n"
     ]
    },
    {
     "name": "stdout",
     "output_type": "stream",
     "text": [
      "21/9742\n"
     ]
    },
    {
     "name": "stderr",
     "output_type": "stream",
     "text": [
      "C:\\Users\\Usuario\\AppData\\Local\\Temp\\ipykernel_9468\\264980796.py:28: FutureWarning: The frame.append method is deprecated and will be removed from pandas in a future version. Use pandas.concat instead.\n",
      "  nuestradatabase = nuestradatabase.append({'moveId':moveiid,'sinopsis':sinopsis}, ignore_index=True)\n",
      "C:\\Users\\Usuario\\AppData\\Local\\Temp\\ipykernel_9468\\264980796.py:19: DeprecationWarning: use options instead of chrome_options\n",
      "  driver = webdriver.Chrome(chrome_options=chrome_options)\n"
     ]
    },
    {
     "name": "stdout",
     "output_type": "stream",
     "text": [
      "22/9742\n"
     ]
    },
    {
     "name": "stderr",
     "output_type": "stream",
     "text": [
      "C:\\Users\\Usuario\\AppData\\Local\\Temp\\ipykernel_9468\\264980796.py:28: FutureWarning: The frame.append method is deprecated and will be removed from pandas in a future version. Use pandas.concat instead.\n",
      "  nuestradatabase = nuestradatabase.append({'moveId':moveiid,'sinopsis':sinopsis}, ignore_index=True)\n",
      "C:\\Users\\Usuario\\AppData\\Local\\Temp\\ipykernel_9468\\264980796.py:19: DeprecationWarning: use options instead of chrome_options\n",
      "  driver = webdriver.Chrome(chrome_options=chrome_options)\n"
     ]
    },
    {
     "name": "stdout",
     "output_type": "stream",
     "text": [
      "23/9742\n"
     ]
    },
    {
     "name": "stderr",
     "output_type": "stream",
     "text": [
      "C:\\Users\\Usuario\\AppData\\Local\\Temp\\ipykernel_9468\\264980796.py:28: FutureWarning: The frame.append method is deprecated and will be removed from pandas in a future version. Use pandas.concat instead.\n",
      "  nuestradatabase = nuestradatabase.append({'moveId':moveiid,'sinopsis':sinopsis}, ignore_index=True)\n",
      "C:\\Users\\Usuario\\AppData\\Local\\Temp\\ipykernel_9468\\264980796.py:19: DeprecationWarning: use options instead of chrome_options\n",
      "  driver = webdriver.Chrome(chrome_options=chrome_options)\n"
     ]
    },
    {
     "name": "stdout",
     "output_type": "stream",
     "text": [
      "24/9742\n"
     ]
    },
    {
     "name": "stderr",
     "output_type": "stream",
     "text": [
      "C:\\Users\\Usuario\\AppData\\Local\\Temp\\ipykernel_9468\\264980796.py:28: FutureWarning: The frame.append method is deprecated and will be removed from pandas in a future version. Use pandas.concat instead.\n",
      "  nuestradatabase = nuestradatabase.append({'moveId':moveiid,'sinopsis':sinopsis}, ignore_index=True)\n",
      "C:\\Users\\Usuario\\AppData\\Local\\Temp\\ipykernel_9468\\264980796.py:19: DeprecationWarning: use options instead of chrome_options\n",
      "  driver = webdriver.Chrome(chrome_options=chrome_options)\n"
     ]
    },
    {
     "name": "stdout",
     "output_type": "stream",
     "text": [
      "25/9742\n"
     ]
    },
    {
     "name": "stderr",
     "output_type": "stream",
     "text": [
      "C:\\Users\\Usuario\\AppData\\Local\\Temp\\ipykernel_9468\\264980796.py:28: FutureWarning: The frame.append method is deprecated and will be removed from pandas in a future version. Use pandas.concat instead.\n",
      "  nuestradatabase = nuestradatabase.append({'moveId':moveiid,'sinopsis':sinopsis}, ignore_index=True)\n",
      "C:\\Users\\Usuario\\AppData\\Local\\Temp\\ipykernel_9468\\264980796.py:19: DeprecationWarning: use options instead of chrome_options\n",
      "  driver = webdriver.Chrome(chrome_options=chrome_options)\n"
     ]
    },
    {
     "name": "stdout",
     "output_type": "stream",
     "text": [
      "26/9742\n"
     ]
    },
    {
     "name": "stderr",
     "output_type": "stream",
     "text": [
      "C:\\Users\\Usuario\\AppData\\Local\\Temp\\ipykernel_9468\\264980796.py:28: FutureWarning: The frame.append method is deprecated and will be removed from pandas in a future version. Use pandas.concat instead.\n",
      "  nuestradatabase = nuestradatabase.append({'moveId':moveiid,'sinopsis':sinopsis}, ignore_index=True)\n",
      "C:\\Users\\Usuario\\AppData\\Local\\Temp\\ipykernel_9468\\264980796.py:19: DeprecationWarning: use options instead of chrome_options\n",
      "  driver = webdriver.Chrome(chrome_options=chrome_options)\n"
     ]
    },
    {
     "name": "stdout",
     "output_type": "stream",
     "text": [
      "27/9742\n"
     ]
    },
    {
     "name": "stderr",
     "output_type": "stream",
     "text": [
      "C:\\Users\\Usuario\\AppData\\Local\\Temp\\ipykernel_9468\\264980796.py:28: FutureWarning: The frame.append method is deprecated and will be removed from pandas in a future version. Use pandas.concat instead.\n",
      "  nuestradatabase = nuestradatabase.append({'moveId':moveiid,'sinopsis':sinopsis}, ignore_index=True)\n",
      "C:\\Users\\Usuario\\AppData\\Local\\Temp\\ipykernel_9468\\264980796.py:19: DeprecationWarning: use options instead of chrome_options\n",
      "  driver = webdriver.Chrome(chrome_options=chrome_options)\n"
     ]
    },
    {
     "name": "stdout",
     "output_type": "stream",
     "text": [
      "28/9742\n"
     ]
    },
    {
     "name": "stderr",
     "output_type": "stream",
     "text": [
      "C:\\Users\\Usuario\\AppData\\Local\\Temp\\ipykernel_9468\\264980796.py:28: FutureWarning: The frame.append method is deprecated and will be removed from pandas in a future version. Use pandas.concat instead.\n",
      "  nuestradatabase = nuestradatabase.append({'moveId':moveiid,'sinopsis':sinopsis}, ignore_index=True)\n",
      "C:\\Users\\Usuario\\AppData\\Local\\Temp\\ipykernel_9468\\264980796.py:19: DeprecationWarning: use options instead of chrome_options\n",
      "  driver = webdriver.Chrome(chrome_options=chrome_options)\n"
     ]
    },
    {
     "name": "stdout",
     "output_type": "stream",
     "text": [
      "29/9742\n"
     ]
    },
    {
     "name": "stderr",
     "output_type": "stream",
     "text": [
      "C:\\Users\\Usuario\\AppData\\Local\\Temp\\ipykernel_9468\\264980796.py:28: FutureWarning: The frame.append method is deprecated and will be removed from pandas in a future version. Use pandas.concat instead.\n",
      "  nuestradatabase = nuestradatabase.append({'moveId':moveiid,'sinopsis':sinopsis}, ignore_index=True)\n",
      "C:\\Users\\Usuario\\AppData\\Local\\Temp\\ipykernel_9468\\264980796.py:19: DeprecationWarning: use options instead of chrome_options\n",
      "  driver = webdriver.Chrome(chrome_options=chrome_options)\n"
     ]
    },
    {
     "name": "stdout",
     "output_type": "stream",
     "text": [
      "30/9742\n"
     ]
    },
    {
     "name": "stderr",
     "output_type": "stream",
     "text": [
      "C:\\Users\\Usuario\\AppData\\Local\\Temp\\ipykernel_9468\\264980796.py:28: FutureWarning: The frame.append method is deprecated and will be removed from pandas in a future version. Use pandas.concat instead.\n",
      "  nuestradatabase = nuestradatabase.append({'moveId':moveiid,'sinopsis':sinopsis}, ignore_index=True)\n",
      "C:\\Users\\Usuario\\AppData\\Local\\Temp\\ipykernel_9468\\264980796.py:19: DeprecationWarning: use options instead of chrome_options\n",
      "  driver = webdriver.Chrome(chrome_options=chrome_options)\n"
     ]
    },
    {
     "name": "stdout",
     "output_type": "stream",
     "text": [
      "31/9742\n"
     ]
    },
    {
     "name": "stderr",
     "output_type": "stream",
     "text": [
      "C:\\Users\\Usuario\\AppData\\Local\\Temp\\ipykernel_9468\\264980796.py:28: FutureWarning: The frame.append method is deprecated and will be removed from pandas in a future version. Use pandas.concat instead.\n",
      "  nuestradatabase = nuestradatabase.append({'moveId':moveiid,'sinopsis':sinopsis}, ignore_index=True)\n",
      "C:\\Users\\Usuario\\AppData\\Local\\Temp\\ipykernel_9468\\264980796.py:19: DeprecationWarning: use options instead of chrome_options\n",
      "  driver = webdriver.Chrome(chrome_options=chrome_options)\n"
     ]
    },
    {
     "name": "stdout",
     "output_type": "stream",
     "text": [
      "32/9742\n"
     ]
    },
    {
     "name": "stderr",
     "output_type": "stream",
     "text": [
      "C:\\Users\\Usuario\\AppData\\Local\\Temp\\ipykernel_9468\\264980796.py:28: FutureWarning: The frame.append method is deprecated and will be removed from pandas in a future version. Use pandas.concat instead.\n",
      "  nuestradatabase = nuestradatabase.append({'moveId':moveiid,'sinopsis':sinopsis}, ignore_index=True)\n",
      "C:\\Users\\Usuario\\AppData\\Local\\Temp\\ipykernel_9468\\264980796.py:19: DeprecationWarning: use options instead of chrome_options\n",
      "  driver = webdriver.Chrome(chrome_options=chrome_options)\n"
     ]
    },
    {
     "name": "stdout",
     "output_type": "stream",
     "text": [
      "33/9742\n"
     ]
    },
    {
     "name": "stderr",
     "output_type": "stream",
     "text": [
      "C:\\Users\\Usuario\\AppData\\Local\\Temp\\ipykernel_9468\\264980796.py:28: FutureWarning: The frame.append method is deprecated and will be removed from pandas in a future version. Use pandas.concat instead.\n",
      "  nuestradatabase = nuestradatabase.append({'moveId':moveiid,'sinopsis':sinopsis}, ignore_index=True)\n",
      "C:\\Users\\Usuario\\AppData\\Local\\Temp\\ipykernel_9468\\264980796.py:19: DeprecationWarning: use options instead of chrome_options\n",
      "  driver = webdriver.Chrome(chrome_options=chrome_options)\n"
     ]
    },
    {
     "name": "stdout",
     "output_type": "stream",
     "text": [
      "34/9742\n"
     ]
    },
    {
     "name": "stderr",
     "output_type": "stream",
     "text": [
      "C:\\Users\\Usuario\\AppData\\Local\\Temp\\ipykernel_9468\\264980796.py:28: FutureWarning: The frame.append method is deprecated and will be removed from pandas in a future version. Use pandas.concat instead.\n",
      "  nuestradatabase = nuestradatabase.append({'moveId':moveiid,'sinopsis':sinopsis}, ignore_index=True)\n",
      "C:\\Users\\Usuario\\AppData\\Local\\Temp\\ipykernel_9468\\264980796.py:19: DeprecationWarning: use options instead of chrome_options\n",
      "  driver = webdriver.Chrome(chrome_options=chrome_options)\n"
     ]
    },
    {
     "name": "stdout",
     "output_type": "stream",
     "text": [
      "35/9742\n"
     ]
    },
    {
     "name": "stderr",
     "output_type": "stream",
     "text": [
      "C:\\Users\\Usuario\\AppData\\Local\\Temp\\ipykernel_9468\\264980796.py:28: FutureWarning: The frame.append method is deprecated and will be removed from pandas in a future version. Use pandas.concat instead.\n",
      "  nuestradatabase = nuestradatabase.append({'moveId':moveiid,'sinopsis':sinopsis}, ignore_index=True)\n",
      "C:\\Users\\Usuario\\AppData\\Local\\Temp\\ipykernel_9468\\264980796.py:19: DeprecationWarning: use options instead of chrome_options\n",
      "  driver = webdriver.Chrome(chrome_options=chrome_options)\n"
     ]
    },
    {
     "name": "stdout",
     "output_type": "stream",
     "text": [
      "36/9742\n"
     ]
    },
    {
     "name": "stderr",
     "output_type": "stream",
     "text": [
      "C:\\Users\\Usuario\\AppData\\Local\\Temp\\ipykernel_9468\\264980796.py:28: FutureWarning: The frame.append method is deprecated and will be removed from pandas in a future version. Use pandas.concat instead.\n",
      "  nuestradatabase = nuestradatabase.append({'moveId':moveiid,'sinopsis':sinopsis}, ignore_index=True)\n",
      "C:\\Users\\Usuario\\AppData\\Local\\Temp\\ipykernel_9468\\264980796.py:19: DeprecationWarning: use options instead of chrome_options\n",
      "  driver = webdriver.Chrome(chrome_options=chrome_options)\n"
     ]
    },
    {
     "name": "stdout",
     "output_type": "stream",
     "text": [
      "37/9742\n"
     ]
    },
    {
     "name": "stderr",
     "output_type": "stream",
     "text": [
      "C:\\Users\\Usuario\\AppData\\Local\\Temp\\ipykernel_9468\\264980796.py:28: FutureWarning: The frame.append method is deprecated and will be removed from pandas in a future version. Use pandas.concat instead.\n",
      "  nuestradatabase = nuestradatabase.append({'moveId':moveiid,'sinopsis':sinopsis}, ignore_index=True)\n",
      "C:\\Users\\Usuario\\AppData\\Local\\Temp\\ipykernel_9468\\264980796.py:19: DeprecationWarning: use options instead of chrome_options\n",
      "  driver = webdriver.Chrome(chrome_options=chrome_options)\n"
     ]
    },
    {
     "name": "stdout",
     "output_type": "stream",
     "text": [
      "38/9742\n"
     ]
    },
    {
     "name": "stderr",
     "output_type": "stream",
     "text": [
      "C:\\Users\\Usuario\\AppData\\Local\\Temp\\ipykernel_9468\\264980796.py:28: FutureWarning: The frame.append method is deprecated and will be removed from pandas in a future version. Use pandas.concat instead.\n",
      "  nuestradatabase = nuestradatabase.append({'moveId':moveiid,'sinopsis':sinopsis}, ignore_index=True)\n",
      "C:\\Users\\Usuario\\AppData\\Local\\Temp\\ipykernel_9468\\264980796.py:19: DeprecationWarning: use options instead of chrome_options\n",
      "  driver = webdriver.Chrome(chrome_options=chrome_options)\n"
     ]
    },
    {
     "name": "stdout",
     "output_type": "stream",
     "text": [
      "39/9742\n"
     ]
    },
    {
     "name": "stderr",
     "output_type": "stream",
     "text": [
      "C:\\Users\\Usuario\\AppData\\Local\\Temp\\ipykernel_9468\\264980796.py:28: FutureWarning: The frame.append method is deprecated and will be removed from pandas in a future version. Use pandas.concat instead.\n",
      "  nuestradatabase = nuestradatabase.append({'moveId':moveiid,'sinopsis':sinopsis}, ignore_index=True)\n",
      "C:\\Users\\Usuario\\AppData\\Local\\Temp\\ipykernel_9468\\264980796.py:19: DeprecationWarning: use options instead of chrome_options\n",
      "  driver = webdriver.Chrome(chrome_options=chrome_options)\n"
     ]
    },
    {
     "name": "stdout",
     "output_type": "stream",
     "text": [
      "40/9742\n"
     ]
    },
    {
     "name": "stderr",
     "output_type": "stream",
     "text": [
      "C:\\Users\\Usuario\\AppData\\Local\\Temp\\ipykernel_9468\\264980796.py:28: FutureWarning: The frame.append method is deprecated and will be removed from pandas in a future version. Use pandas.concat instead.\n",
      "  nuestradatabase = nuestradatabase.append({'moveId':moveiid,'sinopsis':sinopsis}, ignore_index=True)\n",
      "C:\\Users\\Usuario\\AppData\\Local\\Temp\\ipykernel_9468\\264980796.py:19: DeprecationWarning: use options instead of chrome_options\n",
      "  driver = webdriver.Chrome(chrome_options=chrome_options)\n"
     ]
    },
    {
     "name": "stdout",
     "output_type": "stream",
     "text": [
      "41/9742\n"
     ]
    },
    {
     "name": "stderr",
     "output_type": "stream",
     "text": [
      "C:\\Users\\Usuario\\AppData\\Local\\Temp\\ipykernel_9468\\264980796.py:28: FutureWarning: The frame.append method is deprecated and will be removed from pandas in a future version. Use pandas.concat instead.\n",
      "  nuestradatabase = nuestradatabase.append({'moveId':moveiid,'sinopsis':sinopsis}, ignore_index=True)\n",
      "C:\\Users\\Usuario\\AppData\\Local\\Temp\\ipykernel_9468\\264980796.py:19: DeprecationWarning: use options instead of chrome_options\n",
      "  driver = webdriver.Chrome(chrome_options=chrome_options)\n"
     ]
    },
    {
     "name": "stdout",
     "output_type": "stream",
     "text": [
      "42/9742\n"
     ]
    },
    {
     "name": "stderr",
     "output_type": "stream",
     "text": [
      "C:\\Users\\Usuario\\AppData\\Local\\Temp\\ipykernel_9468\\264980796.py:28: FutureWarning: The frame.append method is deprecated and will be removed from pandas in a future version. Use pandas.concat instead.\n",
      "  nuestradatabase = nuestradatabase.append({'moveId':moveiid,'sinopsis':sinopsis}, ignore_index=True)\n",
      "C:\\Users\\Usuario\\AppData\\Local\\Temp\\ipykernel_9468\\264980796.py:19: DeprecationWarning: use options instead of chrome_options\n",
      "  driver = webdriver.Chrome(chrome_options=chrome_options)\n"
     ]
    },
    {
     "name": "stdout",
     "output_type": "stream",
     "text": [
      "43/9742\n"
     ]
    },
    {
     "name": "stderr",
     "output_type": "stream",
     "text": [
      "C:\\Users\\Usuario\\AppData\\Local\\Temp\\ipykernel_9468\\264980796.py:28: FutureWarning: The frame.append method is deprecated and will be removed from pandas in a future version. Use pandas.concat instead.\n",
      "  nuestradatabase = nuestradatabase.append({'moveId':moveiid,'sinopsis':sinopsis}, ignore_index=True)\n",
      "C:\\Users\\Usuario\\AppData\\Local\\Temp\\ipykernel_9468\\264980796.py:19: DeprecationWarning: use options instead of chrome_options\n",
      "  driver = webdriver.Chrome(chrome_options=chrome_options)\n"
     ]
    },
    {
     "name": "stdout",
     "output_type": "stream",
     "text": [
      "44/9742\n"
     ]
    },
    {
     "name": "stderr",
     "output_type": "stream",
     "text": [
      "C:\\Users\\Usuario\\AppData\\Local\\Temp\\ipykernel_9468\\264980796.py:28: FutureWarning: The frame.append method is deprecated and will be removed from pandas in a future version. Use pandas.concat instead.\n",
      "  nuestradatabase = nuestradatabase.append({'moveId':moveiid,'sinopsis':sinopsis}, ignore_index=True)\n",
      "C:\\Users\\Usuario\\AppData\\Local\\Temp\\ipykernel_9468\\264980796.py:19: DeprecationWarning: use options instead of chrome_options\n",
      "  driver = webdriver.Chrome(chrome_options=chrome_options)\n"
     ]
    },
    {
     "name": "stdout",
     "output_type": "stream",
     "text": [
      "45/9742\n"
     ]
    },
    {
     "name": "stderr",
     "output_type": "stream",
     "text": [
      "C:\\Users\\Usuario\\AppData\\Local\\Temp\\ipykernel_9468\\264980796.py:28: FutureWarning: The frame.append method is deprecated and will be removed from pandas in a future version. Use pandas.concat instead.\n",
      "  nuestradatabase = nuestradatabase.append({'moveId':moveiid,'sinopsis':sinopsis}, ignore_index=True)\n",
      "C:\\Users\\Usuario\\AppData\\Local\\Temp\\ipykernel_9468\\264980796.py:19: DeprecationWarning: use options instead of chrome_options\n",
      "  driver = webdriver.Chrome(chrome_options=chrome_options)\n"
     ]
    },
    {
     "name": "stdout",
     "output_type": "stream",
     "text": [
      "46/9742\n"
     ]
    },
    {
     "name": "stderr",
     "output_type": "stream",
     "text": [
      "C:\\Users\\Usuario\\AppData\\Local\\Temp\\ipykernel_9468\\264980796.py:28: FutureWarning: The frame.append method is deprecated and will be removed from pandas in a future version. Use pandas.concat instead.\n",
      "  nuestradatabase = nuestradatabase.append({'moveId':moveiid,'sinopsis':sinopsis}, ignore_index=True)\n",
      "C:\\Users\\Usuario\\AppData\\Local\\Temp\\ipykernel_9468\\264980796.py:19: DeprecationWarning: use options instead of chrome_options\n",
      "  driver = webdriver.Chrome(chrome_options=chrome_options)\n"
     ]
    },
    {
     "name": "stdout",
     "output_type": "stream",
     "text": [
      "47/9742\n"
     ]
    },
    {
     "name": "stderr",
     "output_type": "stream",
     "text": [
      "C:\\Users\\Usuario\\AppData\\Local\\Temp\\ipykernel_9468\\264980796.py:28: FutureWarning: The frame.append method is deprecated and will be removed from pandas in a future version. Use pandas.concat instead.\n",
      "  nuestradatabase = nuestradatabase.append({'moveId':moveiid,'sinopsis':sinopsis}, ignore_index=True)\n",
      "C:\\Users\\Usuario\\AppData\\Local\\Temp\\ipykernel_9468\\264980796.py:19: DeprecationWarning: use options instead of chrome_options\n",
      "  driver = webdriver.Chrome(chrome_options=chrome_options)\n"
     ]
    },
    {
     "name": "stdout",
     "output_type": "stream",
     "text": [
      "48/9742\n"
     ]
    },
    {
     "name": "stderr",
     "output_type": "stream",
     "text": [
      "C:\\Users\\Usuario\\AppData\\Local\\Temp\\ipykernel_9468\\264980796.py:28: FutureWarning: The frame.append method is deprecated and will be removed from pandas in a future version. Use pandas.concat instead.\n",
      "  nuestradatabase = nuestradatabase.append({'moveId':moveiid,'sinopsis':sinopsis}, ignore_index=True)\n",
      "C:\\Users\\Usuario\\AppData\\Local\\Temp\\ipykernel_9468\\264980796.py:19: DeprecationWarning: use options instead of chrome_options\n",
      "  driver = webdriver.Chrome(chrome_options=chrome_options)\n"
     ]
    },
    {
     "name": "stdout",
     "output_type": "stream",
     "text": [
      "49/9742\n"
     ]
    },
    {
     "name": "stderr",
     "output_type": "stream",
     "text": [
      "C:\\Users\\Usuario\\AppData\\Local\\Temp\\ipykernel_9468\\264980796.py:28: FutureWarning: The frame.append method is deprecated and will be removed from pandas in a future version. Use pandas.concat instead.\n",
      "  nuestradatabase = nuestradatabase.append({'moveId':moveiid,'sinopsis':sinopsis}, ignore_index=True)\n",
      "C:\\Users\\Usuario\\AppData\\Local\\Temp\\ipykernel_9468\\264980796.py:19: DeprecationWarning: use options instead of chrome_options\n",
      "  driver = webdriver.Chrome(chrome_options=chrome_options)\n"
     ]
    },
    {
     "name": "stdout",
     "output_type": "stream",
     "text": [
      "50/9742\n"
     ]
    },
    {
     "name": "stderr",
     "output_type": "stream",
     "text": [
      "C:\\Users\\Usuario\\AppData\\Local\\Temp\\ipykernel_9468\\264980796.py:28: FutureWarning: The frame.append method is deprecated and will be removed from pandas in a future version. Use pandas.concat instead.\n",
      "  nuestradatabase = nuestradatabase.append({'moveId':moveiid,'sinopsis':sinopsis}, ignore_index=True)\n",
      "C:\\Users\\Usuario\\AppData\\Local\\Temp\\ipykernel_9468\\264980796.py:19: DeprecationWarning: use options instead of chrome_options\n",
      "  driver = webdriver.Chrome(chrome_options=chrome_options)\n"
     ]
    },
    {
     "name": "stdout",
     "output_type": "stream",
     "text": [
      "51/9742\n"
     ]
    },
    {
     "name": "stderr",
     "output_type": "stream",
     "text": [
      "C:\\Users\\Usuario\\AppData\\Local\\Temp\\ipykernel_9468\\264980796.py:28: FutureWarning: The frame.append method is deprecated and will be removed from pandas in a future version. Use pandas.concat instead.\n",
      "  nuestradatabase = nuestradatabase.append({'moveId':moveiid,'sinopsis':sinopsis}, ignore_index=True)\n",
      "C:\\Users\\Usuario\\AppData\\Local\\Temp\\ipykernel_9468\\264980796.py:19: DeprecationWarning: use options instead of chrome_options\n",
      "  driver = webdriver.Chrome(chrome_options=chrome_options)\n"
     ]
    },
    {
     "name": "stdout",
     "output_type": "stream",
     "text": [
      "52/9742\n"
     ]
    },
    {
     "name": "stderr",
     "output_type": "stream",
     "text": [
      "C:\\Users\\Usuario\\AppData\\Local\\Temp\\ipykernel_9468\\264980796.py:28: FutureWarning: The frame.append method is deprecated and will be removed from pandas in a future version. Use pandas.concat instead.\n",
      "  nuestradatabase = nuestradatabase.append({'moveId':moveiid,'sinopsis':sinopsis}, ignore_index=True)\n",
      "C:\\Users\\Usuario\\AppData\\Local\\Temp\\ipykernel_9468\\264980796.py:19: DeprecationWarning: use options instead of chrome_options\n",
      "  driver = webdriver.Chrome(chrome_options=chrome_options)\n"
     ]
    },
    {
     "name": "stdout",
     "output_type": "stream",
     "text": [
      "53/9742\n"
     ]
    },
    {
     "name": "stderr",
     "output_type": "stream",
     "text": [
      "C:\\Users\\Usuario\\AppData\\Local\\Temp\\ipykernel_9468\\264980796.py:28: FutureWarning: The frame.append method is deprecated and will be removed from pandas in a future version. Use pandas.concat instead.\n",
      "  nuestradatabase = nuestradatabase.append({'moveId':moveiid,'sinopsis':sinopsis}, ignore_index=True)\n",
      "C:\\Users\\Usuario\\AppData\\Local\\Temp\\ipykernel_9468\\264980796.py:19: DeprecationWarning: use options instead of chrome_options\n",
      "  driver = webdriver.Chrome(chrome_options=chrome_options)\n"
     ]
    },
    {
     "name": "stdout",
     "output_type": "stream",
     "text": [
      "54/9742\n"
     ]
    },
    {
     "name": "stderr",
     "output_type": "stream",
     "text": [
      "C:\\Users\\Usuario\\AppData\\Local\\Temp\\ipykernel_9468\\264980796.py:28: FutureWarning: The frame.append method is deprecated and will be removed from pandas in a future version. Use pandas.concat instead.\n",
      "  nuestradatabase = nuestradatabase.append({'moveId':moveiid,'sinopsis':sinopsis}, ignore_index=True)\n",
      "C:\\Users\\Usuario\\AppData\\Local\\Temp\\ipykernel_9468\\264980796.py:19: DeprecationWarning: use options instead of chrome_options\n",
      "  driver = webdriver.Chrome(chrome_options=chrome_options)\n"
     ]
    },
    {
     "name": "stdout",
     "output_type": "stream",
     "text": [
      "55/9742\n"
     ]
    },
    {
     "name": "stderr",
     "output_type": "stream",
     "text": [
      "C:\\Users\\Usuario\\AppData\\Local\\Temp\\ipykernel_9468\\264980796.py:28: FutureWarning: The frame.append method is deprecated and will be removed from pandas in a future version. Use pandas.concat instead.\n",
      "  nuestradatabase = nuestradatabase.append({'moveId':moveiid,'sinopsis':sinopsis}, ignore_index=True)\n",
      "C:\\Users\\Usuario\\AppData\\Local\\Temp\\ipykernel_9468\\264980796.py:19: DeprecationWarning: use options instead of chrome_options\n",
      "  driver = webdriver.Chrome(chrome_options=chrome_options)\n"
     ]
    },
    {
     "name": "stdout",
     "output_type": "stream",
     "text": [
      "56/9742\n"
     ]
    },
    {
     "name": "stderr",
     "output_type": "stream",
     "text": [
      "C:\\Users\\Usuario\\AppData\\Local\\Temp\\ipykernel_9468\\264980796.py:28: FutureWarning: The frame.append method is deprecated and will be removed from pandas in a future version. Use pandas.concat instead.\n",
      "  nuestradatabase = nuestradatabase.append({'moveId':moveiid,'sinopsis':sinopsis}, ignore_index=True)\n",
      "C:\\Users\\Usuario\\AppData\\Local\\Temp\\ipykernel_9468\\264980796.py:19: DeprecationWarning: use options instead of chrome_options\n",
      "  driver = webdriver.Chrome(chrome_options=chrome_options)\n"
     ]
    },
    {
     "name": "stdout",
     "output_type": "stream",
     "text": [
      "57/9742\n"
     ]
    },
    {
     "name": "stderr",
     "output_type": "stream",
     "text": [
      "C:\\Users\\Usuario\\AppData\\Local\\Temp\\ipykernel_9468\\264980796.py:28: FutureWarning: The frame.append method is deprecated and will be removed from pandas in a future version. Use pandas.concat instead.\n",
      "  nuestradatabase = nuestradatabase.append({'moveId':moveiid,'sinopsis':sinopsis}, ignore_index=True)\n",
      "C:\\Users\\Usuario\\AppData\\Local\\Temp\\ipykernel_9468\\264980796.py:19: DeprecationWarning: use options instead of chrome_options\n",
      "  driver = webdriver.Chrome(chrome_options=chrome_options)\n"
     ]
    },
    {
     "name": "stdout",
     "output_type": "stream",
     "text": [
      "58/9742\n"
     ]
    },
    {
     "name": "stderr",
     "output_type": "stream",
     "text": [
      "C:\\Users\\Usuario\\AppData\\Local\\Temp\\ipykernel_9468\\264980796.py:28: FutureWarning: The frame.append method is deprecated and will be removed from pandas in a future version. Use pandas.concat instead.\n",
      "  nuestradatabase = nuestradatabase.append({'moveId':moveiid,'sinopsis':sinopsis}, ignore_index=True)\n",
      "C:\\Users\\Usuario\\AppData\\Local\\Temp\\ipykernel_9468\\264980796.py:19: DeprecationWarning: use options instead of chrome_options\n",
      "  driver = webdriver.Chrome(chrome_options=chrome_options)\n"
     ]
    },
    {
     "name": "stdout",
     "output_type": "stream",
     "text": [
      "59/9742\n"
     ]
    },
    {
     "name": "stderr",
     "output_type": "stream",
     "text": [
      "C:\\Users\\Usuario\\AppData\\Local\\Temp\\ipykernel_9468\\264980796.py:28: FutureWarning: The frame.append method is deprecated and will be removed from pandas in a future version. Use pandas.concat instead.\n",
      "  nuestradatabase = nuestradatabase.append({'moveId':moveiid,'sinopsis':sinopsis}, ignore_index=True)\n",
      "C:\\Users\\Usuario\\AppData\\Local\\Temp\\ipykernel_9468\\264980796.py:19: DeprecationWarning: use options instead of chrome_options\n",
      "  driver = webdriver.Chrome(chrome_options=chrome_options)\n"
     ]
    },
    {
     "name": "stdout",
     "output_type": "stream",
     "text": [
      "60/9742\n"
     ]
    },
    {
     "name": "stderr",
     "output_type": "stream",
     "text": [
      "C:\\Users\\Usuario\\AppData\\Local\\Temp\\ipykernel_9468\\264980796.py:28: FutureWarning: The frame.append method is deprecated and will be removed from pandas in a future version. Use pandas.concat instead.\n",
      "  nuestradatabase = nuestradatabase.append({'moveId':moveiid,'sinopsis':sinopsis}, ignore_index=True)\n",
      "C:\\Users\\Usuario\\AppData\\Local\\Temp\\ipykernel_9468\\264980796.py:19: DeprecationWarning: use options instead of chrome_options\n",
      "  driver = webdriver.Chrome(chrome_options=chrome_options)\n"
     ]
    },
    {
     "name": "stdout",
     "output_type": "stream",
     "text": [
      "61/9742\n"
     ]
    },
    {
     "name": "stderr",
     "output_type": "stream",
     "text": [
      "C:\\Users\\Usuario\\AppData\\Local\\Temp\\ipykernel_9468\\264980796.py:28: FutureWarning: The frame.append method is deprecated and will be removed from pandas in a future version. Use pandas.concat instead.\n",
      "  nuestradatabase = nuestradatabase.append({'moveId':moveiid,'sinopsis':sinopsis}, ignore_index=True)\n",
      "C:\\Users\\Usuario\\AppData\\Local\\Temp\\ipykernel_9468\\264980796.py:19: DeprecationWarning: use options instead of chrome_options\n",
      "  driver = webdriver.Chrome(chrome_options=chrome_options)\n"
     ]
    },
    {
     "name": "stdout",
     "output_type": "stream",
     "text": [
      "62/9742\n"
     ]
    },
    {
     "name": "stderr",
     "output_type": "stream",
     "text": [
      "C:\\Users\\Usuario\\AppData\\Local\\Temp\\ipykernel_9468\\264980796.py:28: FutureWarning: The frame.append method is deprecated and will be removed from pandas in a future version. Use pandas.concat instead.\n",
      "  nuestradatabase = nuestradatabase.append({'moveId':moveiid,'sinopsis':sinopsis}, ignore_index=True)\n",
      "C:\\Users\\Usuario\\AppData\\Local\\Temp\\ipykernel_9468\\264980796.py:19: DeprecationWarning: use options instead of chrome_options\n",
      "  driver = webdriver.Chrome(chrome_options=chrome_options)\n"
     ]
    },
    {
     "name": "stdout",
     "output_type": "stream",
     "text": [
      "63/9742\n"
     ]
    },
    {
     "name": "stderr",
     "output_type": "stream",
     "text": [
      "C:\\Users\\Usuario\\AppData\\Local\\Temp\\ipykernel_9468\\264980796.py:28: FutureWarning: The frame.append method is deprecated and will be removed from pandas in a future version. Use pandas.concat instead.\n",
      "  nuestradatabase = nuestradatabase.append({'moveId':moveiid,'sinopsis':sinopsis}, ignore_index=True)\n",
      "C:\\Users\\Usuario\\AppData\\Local\\Temp\\ipykernel_9468\\264980796.py:19: DeprecationWarning: use options instead of chrome_options\n",
      "  driver = webdriver.Chrome(chrome_options=chrome_options)\n"
     ]
    },
    {
     "name": "stdout",
     "output_type": "stream",
     "text": [
      "64/9742\n"
     ]
    },
    {
     "name": "stderr",
     "output_type": "stream",
     "text": [
      "C:\\Users\\Usuario\\AppData\\Local\\Temp\\ipykernel_9468\\264980796.py:28: FutureWarning: The frame.append method is deprecated and will be removed from pandas in a future version. Use pandas.concat instead.\n",
      "  nuestradatabase = nuestradatabase.append({'moveId':moveiid,'sinopsis':sinopsis}, ignore_index=True)\n",
      "C:\\Users\\Usuario\\AppData\\Local\\Temp\\ipykernel_9468\\264980796.py:19: DeprecationWarning: use options instead of chrome_options\n",
      "  driver = webdriver.Chrome(chrome_options=chrome_options)\n"
     ]
    },
    {
     "name": "stdout",
     "output_type": "stream",
     "text": [
      "65/9742\n"
     ]
    },
    {
     "name": "stderr",
     "output_type": "stream",
     "text": [
      "Exception ignored in: <function Service.__del__ at 0x000002550F817820>\n",
      "Traceback (most recent call last):\n",
      "  File \"C:\\Users\\Usuario\\anaconda3\\lib\\site-packages\\selenium\\webdriver\\common\\service.py\", line 186, in __del__\n",
      "    self.stop()\n",
      "  File \"C:\\Users\\Usuario\\anaconda3\\lib\\site-packages\\selenium\\webdriver\\common\\service.py\", line 155, in stop\n",
      "    self.send_remote_shutdown_command()\n",
      "  File \"C:\\Users\\Usuario\\anaconda3\\lib\\site-packages\\selenium\\webdriver\\common\\service.py\", line 132, in send_remote_shutdown_command\n",
      "    request.urlopen(f\"{self.service_url}/shutdown\")\n",
      "  File \"C:\\Users\\Usuario\\anaconda3\\lib\\urllib\\request.py\", line 214, in urlopen\n",
      "    return opener.open(url, data, timeout)\n",
      "  File \"C:\\Users\\Usuario\\anaconda3\\lib\\urllib\\request.py\", line 517, in open\n",
      "    response = self._open(req, data)\n",
      "  File \"C:\\Users\\Usuario\\anaconda3\\lib\\urllib\\request.py\", line 534, in _open\n",
      "    result = self._call_chain(self.handle_open, protocol, protocol +\n",
      "  File \"C:\\Users\\Usuario\\anaconda3\\lib\\urllib\\request.py\", line 494, in _call_chain\n",
      "    result = func(*args)\n",
      "  File \"C:\\Users\\Usuario\\anaconda3\\lib\\urllib\\request.py\", line 1375, in http_open\n",
      "    return self.do_open(http.client.HTTPConnection, req)\n",
      "  File \"C:\\Users\\Usuario\\anaconda3\\lib\\urllib\\request.py\", line 1346, in do_open\n",
      "    h.request(req.get_method(), req.selector, req.data, headers,\n",
      "  File \"C:\\Users\\Usuario\\anaconda3\\lib\\http\\client.py\", line 1285, in request\n",
      "    self._send_request(method, url, body, headers, encode_chunked)\n",
      "  File \"C:\\Users\\Usuario\\anaconda3\\lib\\http\\client.py\", line 1331, in _send_request\n",
      "    self.endheaders(body, encode_chunked=encode_chunked)\n",
      "  File \"C:\\Users\\Usuario\\anaconda3\\lib\\http\\client.py\", line 1280, in endheaders\n",
      "    self._send_output(message_body, encode_chunked=encode_chunked)\n",
      "  File \"C:\\Users\\Usuario\\anaconda3\\lib\\http\\client.py\", line 1040, in _send_output\n",
      "    self.send(msg)\n",
      "  File \"C:\\Users\\Usuario\\anaconda3\\lib\\http\\client.py\", line 980, in send\n",
      "    self.connect()\n",
      "  File \"C:\\Users\\Usuario\\anaconda3\\lib\\http\\client.py\", line 946, in connect\n",
      "    self.sock = self._create_connection(\n",
      "  File \"C:\\Users\\Usuario\\anaconda3\\lib\\socket.py\", line 832, in create_connection\n",
      "    sock.connect(sa)\n",
      "KeyboardInterrupt: \n",
      "C:\\Users\\Usuario\\AppData\\Local\\Temp\\ipykernel_9468\\264980796.py:28: FutureWarning: The frame.append method is deprecated and will be removed from pandas in a future version. Use pandas.concat instead.\n",
      "  nuestradatabase = nuestradatabase.append({'moveId':moveiid,'sinopsis':sinopsis}, ignore_index=True)\n",
      "C:\\Users\\Usuario\\AppData\\Local\\Temp\\ipykernel_9468\\264980796.py:19: DeprecationWarning: use options instead of chrome_options\n",
      "  driver = webdriver.Chrome(chrome_options=chrome_options)\n"
     ]
    },
    {
     "name": "stdout",
     "output_type": "stream",
     "text": [
      "66/9742\n"
     ]
    },
    {
     "name": "stderr",
     "output_type": "stream",
     "text": [
      "Exception ignored in: <function Service.__del__ at 0x000002550F817820>\n",
      "Traceback (most recent call last):\n",
      "  File \"C:\\Users\\Usuario\\anaconda3\\lib\\site-packages\\selenium\\webdriver\\common\\service.py\", line 186, in __del__\n",
      "    self.stop()\n",
      "  File \"C:\\Users\\Usuario\\anaconda3\\lib\\site-packages\\selenium\\webdriver\\common\\service.py\", line 155, in stop\n",
      "    self.send_remote_shutdown_command()\n",
      "  File \"C:\\Users\\Usuario\\anaconda3\\lib\\site-packages\\selenium\\webdriver\\common\\service.py\", line 132, in send_remote_shutdown_command\n",
      "    request.urlopen(f\"{self.service_url}/shutdown\")\n",
      "  File \"C:\\Users\\Usuario\\anaconda3\\lib\\urllib\\request.py\", line 214, in urlopen\n",
      "    return opener.open(url, data, timeout)\n",
      "  File \"C:\\Users\\Usuario\\anaconda3\\lib\\urllib\\request.py\", line 517, in open\n",
      "    response = self._open(req, data)\n",
      "  File \"C:\\Users\\Usuario\\anaconda3\\lib\\urllib\\request.py\", line 534, in _open\n",
      "    result = self._call_chain(self.handle_open, protocol, protocol +\n",
      "  File \"C:\\Users\\Usuario\\anaconda3\\lib\\urllib\\request.py\", line 494, in _call_chain\n",
      "    result = func(*args)\n",
      "  File \"C:\\Users\\Usuario\\anaconda3\\lib\\urllib\\request.py\", line 1375, in http_open\n",
      "    return self.do_open(http.client.HTTPConnection, req)\n",
      "  File \"C:\\Users\\Usuario\\anaconda3\\lib\\urllib\\request.py\", line 1346, in do_open\n",
      "    h.request(req.get_method(), req.selector, req.data, headers,\n",
      "  File \"C:\\Users\\Usuario\\anaconda3\\lib\\http\\client.py\", line 1285, in request\n",
      "    self._send_request(method, url, body, headers, encode_chunked)\n",
      "  File \"C:\\Users\\Usuario\\anaconda3\\lib\\http\\client.py\", line 1331, in _send_request\n",
      "    self.endheaders(body, encode_chunked=encode_chunked)\n",
      "  File \"C:\\Users\\Usuario\\anaconda3\\lib\\http\\client.py\", line 1280, in endheaders\n",
      "    self._send_output(message_body, encode_chunked=encode_chunked)\n",
      "  File \"C:\\Users\\Usuario\\anaconda3\\lib\\http\\client.py\", line 1040, in _send_output\n",
      "    self.send(msg)\n",
      "  File \"C:\\Users\\Usuario\\anaconda3\\lib\\http\\client.py\", line 980, in send\n",
      "    self.connect()\n",
      "  File \"C:\\Users\\Usuario\\anaconda3\\lib\\http\\client.py\", line 946, in connect\n",
      "    self.sock = self._create_connection(\n",
      "  File \"C:\\Users\\Usuario\\anaconda3\\lib\\socket.py\", line 832, in create_connection\n",
      "    sock.connect(sa)\n",
      "KeyboardInterrupt: \n",
      "C:\\Users\\Usuario\\AppData\\Local\\Temp\\ipykernel_9468\\264980796.py:28: FutureWarning: The frame.append method is deprecated and will be removed from pandas in a future version. Use pandas.concat instead.\n",
      "  nuestradatabase = nuestradatabase.append({'moveId':moveiid,'sinopsis':sinopsis}, ignore_index=True)\n",
      "C:\\Users\\Usuario\\AppData\\Local\\Temp\\ipykernel_9468\\264980796.py:19: DeprecationWarning: use options instead of chrome_options\n",
      "  driver = webdriver.Chrome(chrome_options=chrome_options)\n"
     ]
    },
    {
     "name": "stdout",
     "output_type": "stream",
     "text": [
      "67/9742\n"
     ]
    },
    {
     "name": "stderr",
     "output_type": "stream",
     "text": [
      "C:\\Users\\Usuario\\AppData\\Local\\Temp\\ipykernel_9468\\264980796.py:28: FutureWarning: The frame.append method is deprecated and will be removed from pandas in a future version. Use pandas.concat instead.\n",
      "  nuestradatabase = nuestradatabase.append({'moveId':moveiid,'sinopsis':sinopsis}, ignore_index=True)\n",
      "C:\\Users\\Usuario\\AppData\\Local\\Temp\\ipykernel_9468\\264980796.py:19: DeprecationWarning: use options instead of chrome_options\n",
      "  driver = webdriver.Chrome(chrome_options=chrome_options)\n"
     ]
    },
    {
     "name": "stdout",
     "output_type": "stream",
     "text": [
      "68/9742\n"
     ]
    },
    {
     "ename": "KeyboardInterrupt",
     "evalue": "",
     "output_type": "error",
     "traceback": [
      "\u001b[1;31m---------------------------------------------------------------------------\u001b[0m",
      "\u001b[1;31mtimeout\u001b[0m                                   Traceback (most recent call last)",
      "\u001b[1;32m~\\anaconda3\\lib\\socket.py\u001b[0m in \u001b[0;36mcreate_connection\u001b[1;34m(address, timeout, source_address)\u001b[0m\n\u001b[0;32m    831\u001b[0m                 \u001b[0msock\u001b[0m\u001b[1;33m.\u001b[0m\u001b[0mbind\u001b[0m\u001b[1;33m(\u001b[0m\u001b[0msource_address\u001b[0m\u001b[1;33m)\u001b[0m\u001b[1;33m\u001b[0m\u001b[1;33m\u001b[0m\u001b[0m\n\u001b[1;32m--> 832\u001b[1;33m             \u001b[0msock\u001b[0m\u001b[1;33m.\u001b[0m\u001b[0mconnect\u001b[0m\u001b[1;33m(\u001b[0m\u001b[0msa\u001b[0m\u001b[1;33m)\u001b[0m\u001b[1;33m\u001b[0m\u001b[1;33m\u001b[0m\u001b[0m\n\u001b[0m\u001b[0;32m    833\u001b[0m             \u001b[1;31m# Break explicitly a reference cycle\u001b[0m\u001b[1;33m\u001b[0m\u001b[1;33m\u001b[0m\u001b[0m\n",
      "\u001b[1;31mtimeout\u001b[0m: timed out",
      "\nDuring handling of the above exception, another exception occurred:\n",
      "\u001b[1;31mKeyboardInterrupt\u001b[0m                         Traceback (most recent call last)",
      "\u001b[1;32m~\\AppData\\Local\\Temp\\ipykernel_9468\\264980796.py\u001b[0m in \u001b[0;36m<module>\u001b[1;34m\u001b[0m\n\u001b[0;32m     21\u001b[0m     \u001b[0mhtml\u001b[0m \u001b[1;33m=\u001b[0m \u001b[0mdriver\u001b[0m\u001b[1;33m.\u001b[0m\u001b[0mpage_source\u001b[0m\u001b[1;33m\u001b[0m\u001b[1;33m\u001b[0m\u001b[0m\n\u001b[0;32m     22\u001b[0m     \u001b[0msoup\u001b[0m \u001b[1;33m=\u001b[0m \u001b[0mbs\u001b[0m\u001b[1;33m(\u001b[0m\u001b[0mhtml\u001b[0m\u001b[1;33m)\u001b[0m\u001b[1;33m\u001b[0m\u001b[1;33m\u001b[0m\u001b[0m\n\u001b[1;32m---> 23\u001b[1;33m     \u001b[0mdriver\u001b[0m\u001b[1;33m.\u001b[0m\u001b[0mquit\u001b[0m\u001b[1;33m(\u001b[0m\u001b[1;33m)\u001b[0m\u001b[1;33m\u001b[0m\u001b[1;33m\u001b[0m\u001b[0m\n\u001b[0m\u001b[0;32m     24\u001b[0m     \u001b[1;31m#----------------\u001b[0m\u001b[1;33m\u001b[0m\u001b[1;33m\u001b[0m\u001b[0m\n\u001b[0;32m     25\u001b[0m     \u001b[0msinop\u001b[0m \u001b[1;33m=\u001b[0m \u001b[0msoup\u001b[0m\u001b[1;33m.\u001b[0m\u001b[0mfind_all\u001b[0m\u001b[1;33m(\u001b[0m\u001b[1;34m\"div\"\u001b[0m\u001b[1;33m,\u001b[0m \u001b[0mclass_\u001b[0m\u001b[1;33m=\u001b[0m\u001b[1;34m\"overview\"\u001b[0m\u001b[1;33m)\u001b[0m\u001b[1;33m\u001b[0m\u001b[1;33m\u001b[0m\u001b[0m\n",
      "\u001b[1;32m~\\anaconda3\\lib\\site-packages\\selenium\\webdriver\\chromium\\webdriver.py\u001b[0m in \u001b[0;36mquit\u001b[1;34m(self)\u001b[0m\n\u001b[0;32m    252\u001b[0m             \u001b[1;32mpass\u001b[0m\u001b[1;33m\u001b[0m\u001b[1;33m\u001b[0m\u001b[0m\n\u001b[0;32m    253\u001b[0m         \u001b[1;32mfinally\u001b[0m\u001b[1;33m:\u001b[0m\u001b[1;33m\u001b[0m\u001b[1;33m\u001b[0m\u001b[0m\n\u001b[1;32m--> 254\u001b[1;33m             \u001b[0mself\u001b[0m\u001b[1;33m.\u001b[0m\u001b[0mservice\u001b[0m\u001b[1;33m.\u001b[0m\u001b[0mstop\u001b[0m\u001b[1;33m(\u001b[0m\u001b[1;33m)\u001b[0m\u001b[1;33m\u001b[0m\u001b[1;33m\u001b[0m\u001b[0m\n\u001b[0m\u001b[0;32m    255\u001b[0m \u001b[1;33m\u001b[0m\u001b[0m\n\u001b[0;32m    256\u001b[0m     \u001b[1;32mdef\u001b[0m \u001b[0mcreate_options\u001b[0m\u001b[1;33m(\u001b[0m\u001b[0mself\u001b[0m\u001b[1;33m)\u001b[0m \u001b[1;33m->\u001b[0m \u001b[0mBaseOptions\u001b[0m\u001b[1;33m:\u001b[0m\u001b[1;33m\u001b[0m\u001b[1;33m\u001b[0m\u001b[0m\n",
      "\u001b[1;32m~\\anaconda3\\lib\\site-packages\\selenium\\webdriver\\common\\service.py\u001b[0m in \u001b[0;36mstop\u001b[1;34m(self)\u001b[0m\n\u001b[0;32m    153\u001b[0m         \u001b[1;32mif\u001b[0m \u001b[0mself\u001b[0m\u001b[1;33m.\u001b[0m\u001b[0mprocess\u001b[0m \u001b[1;32mis\u001b[0m \u001b[1;32mnot\u001b[0m \u001b[1;32mNone\u001b[0m\u001b[1;33m:\u001b[0m\u001b[1;33m\u001b[0m\u001b[1;33m\u001b[0m\u001b[0m\n\u001b[0;32m    154\u001b[0m             \u001b[1;32mtry\u001b[0m\u001b[1;33m:\u001b[0m\u001b[1;33m\u001b[0m\u001b[1;33m\u001b[0m\u001b[0m\n\u001b[1;32m--> 155\u001b[1;33m                 \u001b[0mself\u001b[0m\u001b[1;33m.\u001b[0m\u001b[0msend_remote_shutdown_command\u001b[0m\u001b[1;33m(\u001b[0m\u001b[1;33m)\u001b[0m\u001b[1;33m\u001b[0m\u001b[1;33m\u001b[0m\u001b[0m\n\u001b[0m\u001b[0;32m    156\u001b[0m             \u001b[1;32mexcept\u001b[0m \u001b[0mTypeError\u001b[0m\u001b[1;33m:\u001b[0m\u001b[1;33m\u001b[0m\u001b[1;33m\u001b[0m\u001b[0m\n\u001b[0;32m    157\u001b[0m                 \u001b[1;32mpass\u001b[0m\u001b[1;33m\u001b[0m\u001b[1;33m\u001b[0m\u001b[0m\n",
      "\u001b[1;32m~\\anaconda3\\lib\\site-packages\\selenium\\webdriver\\common\\service.py\u001b[0m in \u001b[0;36msend_remote_shutdown_command\u001b[1;34m(self)\u001b[0m\n\u001b[0;32m    135\u001b[0m \u001b[1;33m\u001b[0m\u001b[0m\n\u001b[0;32m    136\u001b[0m         \u001b[1;32mfor\u001b[0m \u001b[0m_\u001b[0m \u001b[1;32min\u001b[0m \u001b[0mrange\u001b[0m\u001b[1;33m(\u001b[0m\u001b[1;36m30\u001b[0m\u001b[1;33m)\u001b[0m\u001b[1;33m:\u001b[0m\u001b[1;33m\u001b[0m\u001b[1;33m\u001b[0m\u001b[0m\n\u001b[1;32m--> 137\u001b[1;33m             \u001b[1;32mif\u001b[0m \u001b[1;32mnot\u001b[0m \u001b[0mself\u001b[0m\u001b[1;33m.\u001b[0m\u001b[0mis_connectable\u001b[0m\u001b[1;33m(\u001b[0m\u001b[1;33m)\u001b[0m\u001b[1;33m:\u001b[0m\u001b[1;33m\u001b[0m\u001b[1;33m\u001b[0m\u001b[0m\n\u001b[0m\u001b[0;32m    138\u001b[0m                 \u001b[1;32mbreak\u001b[0m\u001b[1;33m\u001b[0m\u001b[1;33m\u001b[0m\u001b[0m\n\u001b[0;32m    139\u001b[0m             \u001b[0msleep\u001b[0m\u001b[1;33m(\u001b[0m\u001b[1;36m1\u001b[0m\u001b[1;33m)\u001b[0m\u001b[1;33m\u001b[0m\u001b[1;33m\u001b[0m\u001b[0m\n",
      "\u001b[1;32m~\\anaconda3\\lib\\site-packages\\selenium\\webdriver\\common\\service.py\u001b[0m in \u001b[0;36mis_connectable\u001b[1;34m(self)\u001b[0m\n\u001b[0;32m    122\u001b[0m         \"\"\"Establishes a socket connection to determine if the service running on\n\u001b[0;32m    123\u001b[0m         the port is accessible.\"\"\"\n\u001b[1;32m--> 124\u001b[1;33m         \u001b[1;32mreturn\u001b[0m \u001b[0mutils\u001b[0m\u001b[1;33m.\u001b[0m\u001b[0mis_connectable\u001b[0m\u001b[1;33m(\u001b[0m\u001b[0mself\u001b[0m\u001b[1;33m.\u001b[0m\u001b[0mport\u001b[0m\u001b[1;33m)\u001b[0m\u001b[1;33m\u001b[0m\u001b[1;33m\u001b[0m\u001b[0m\n\u001b[0m\u001b[0;32m    125\u001b[0m \u001b[1;33m\u001b[0m\u001b[0m\n\u001b[0;32m    126\u001b[0m     \u001b[1;32mdef\u001b[0m \u001b[0msend_remote_shutdown_command\u001b[0m\u001b[1;33m(\u001b[0m\u001b[0mself\u001b[0m\u001b[1;33m)\u001b[0m \u001b[1;33m->\u001b[0m \u001b[1;32mNone\u001b[0m\u001b[1;33m:\u001b[0m\u001b[1;33m\u001b[0m\u001b[1;33m\u001b[0m\u001b[0m\n",
      "\u001b[1;32m~\\anaconda3\\lib\\site-packages\\selenium\\webdriver\\common\\utils.py\u001b[0m in \u001b[0;36mis_connectable\u001b[1;34m(port, host)\u001b[0m\n\u001b[0;32m    107\u001b[0m     \u001b[0msocket_\u001b[0m \u001b[1;33m=\u001b[0m \u001b[1;32mNone\u001b[0m\u001b[1;33m\u001b[0m\u001b[1;33m\u001b[0m\u001b[0m\n\u001b[0;32m    108\u001b[0m     \u001b[1;32mtry\u001b[0m\u001b[1;33m:\u001b[0m\u001b[1;33m\u001b[0m\u001b[1;33m\u001b[0m\u001b[0m\n\u001b[1;32m--> 109\u001b[1;33m         \u001b[0msocket_\u001b[0m \u001b[1;33m=\u001b[0m \u001b[0msocket\u001b[0m\u001b[1;33m.\u001b[0m\u001b[0mcreate_connection\u001b[0m\u001b[1;33m(\u001b[0m\u001b[1;33m(\u001b[0m\u001b[0mhost\u001b[0m\u001b[1;33m,\u001b[0m \u001b[0mport\u001b[0m\u001b[1;33m)\u001b[0m\u001b[1;33m,\u001b[0m \u001b[1;36m1\u001b[0m\u001b[1;33m)\u001b[0m\u001b[1;33m\u001b[0m\u001b[1;33m\u001b[0m\u001b[0m\n\u001b[0m\u001b[0;32m    110\u001b[0m         \u001b[0mresult\u001b[0m \u001b[1;33m=\u001b[0m \u001b[1;32mTrue\u001b[0m\u001b[1;33m\u001b[0m\u001b[1;33m\u001b[0m\u001b[0m\n\u001b[0;32m    111\u001b[0m     \u001b[1;32mexcept\u001b[0m \u001b[0m_is_connectable_exceptions\u001b[0m\u001b[1;33m:\u001b[0m\u001b[1;33m\u001b[0m\u001b[1;33m\u001b[0m\u001b[0m\n",
      "\u001b[1;32m~\\anaconda3\\lib\\socket.py\u001b[0m in \u001b[0;36mcreate_connection\u001b[1;34m(address, timeout, source_address)\u001b[0m\n\u001b[0;32m    830\u001b[0m             \u001b[1;32mif\u001b[0m \u001b[0msource_address\u001b[0m\u001b[1;33m:\u001b[0m\u001b[1;33m\u001b[0m\u001b[1;33m\u001b[0m\u001b[0m\n\u001b[0;32m    831\u001b[0m                 \u001b[0msock\u001b[0m\u001b[1;33m.\u001b[0m\u001b[0mbind\u001b[0m\u001b[1;33m(\u001b[0m\u001b[0msource_address\u001b[0m\u001b[1;33m)\u001b[0m\u001b[1;33m\u001b[0m\u001b[1;33m\u001b[0m\u001b[0m\n\u001b[1;32m--> 832\u001b[1;33m             \u001b[0msock\u001b[0m\u001b[1;33m.\u001b[0m\u001b[0mconnect\u001b[0m\u001b[1;33m(\u001b[0m\u001b[0msa\u001b[0m\u001b[1;33m)\u001b[0m\u001b[1;33m\u001b[0m\u001b[1;33m\u001b[0m\u001b[0m\n\u001b[0m\u001b[0;32m    833\u001b[0m             \u001b[1;31m# Break explicitly a reference cycle\u001b[0m\u001b[1;33m\u001b[0m\u001b[1;33m\u001b[0m\u001b[0m\n\u001b[0;32m    834\u001b[0m             \u001b[0merr\u001b[0m \u001b[1;33m=\u001b[0m \u001b[1;32mNone\u001b[0m\u001b[1;33m\u001b[0m\u001b[1;33m\u001b[0m\u001b[0m\n",
      "\u001b[1;31mKeyboardInterrupt\u001b[0m: "
     ]
    }
   ],
   "source": [
    "total=len(movies)\n",
    "cuenta=0\n",
    "nuestradatabase = pd.DataFrame()\n",
    "for movie in movies[\"title\"]:\n",
    "    titl = movies[\"title\"]\n",
    "    mov = movies.loc[titl==movie, \"movieId\"]\n",
    "    movie_id = mov.iloc[0]\n",
    "    movieId = links[\"movieId\"]\n",
    "    match = links.loc[movieId == movie_id, \"tmdbId\"]\n",
    "    tmdb = match.iloc[0]\n",
    "    tmdb = int(tmdb)\n",
    "    tmdb = str(tmdb)\n",
    "    moveiid = int(movie_id)\n",
    "    moveiid = str(moveiid)\n",
    "    url = \"https://www.themoviedb.org/movie/\" + tmdb\n",
    "    #----------------\n",
    "    chrome_options = Options()\n",
    "    chrome_options.add_argument(\"--lang=en\")\n",
    "    driver = webdriver.Chrome(chrome_options=chrome_options)\n",
    "    driver.get(url)\n",
    "    html = driver.page_source\n",
    "    soup = bs(html)\n",
    "    driver.quit()\n",
    "    #----------------\n",
    "    sinop = soup.find_all(\"div\", class_=\"overview\")\n",
    "    for p in sinop:\n",
    "        sinopsis = p.get_text(strip=True)\n",
    "    nuestradatabase = nuestradatabase.append({'moveId':moveiid,'sinopsis':sinopsis}, ignore_index=True)\n",
    "    cuenta=cuenta+1\n",
    "    print(str(cuenta) + \"/\" + str(total))\n",
    "nuestradatabase.to_csv('sinopsisDB.csv', index=False)"
   ]
  },
  {
   "cell_type": "code",
   "execution_count": 9,
   "id": "d8874ea7-c3de-4a7a-aae5-d7950aac50f4",
   "metadata": {},
   "outputs": [
    {
     "data": {
      "text/html": [
       "<div>\n",
       "<style scoped>\n",
       "    .dataframe tbody tr th:only-of-type {\n",
       "        vertical-align: middle;\n",
       "    }\n",
       "\n",
       "    .dataframe tbody tr th {\n",
       "        vertical-align: top;\n",
       "    }\n",
       "\n",
       "    .dataframe thead th {\n",
       "        text-align: right;\n",
       "    }\n",
       "</style>\n",
       "<table border=\"1\" class=\"dataframe\">\n",
       "  <thead>\n",
       "    <tr style=\"text-align: right;\">\n",
       "      <th></th>\n",
       "      <th>moveId</th>\n",
       "      <th>sinopsis</th>\n",
       "    </tr>\n",
       "  </thead>\n",
       "  <tbody>\n",
       "    <tr>\n",
       "      <th>0</th>\n",
       "      <td>1</td>\n",
       "      <td>Led by Woody, Andy's toys live happily in his ...</td>\n",
       "    </tr>\n",
       "    <tr>\n",
       "      <th>1</th>\n",
       "      <td>2</td>\n",
       "      <td>When siblings Judy and Peter discover an encha...</td>\n",
       "    </tr>\n",
       "    <tr>\n",
       "      <th>2</th>\n",
       "      <td>3</td>\n",
       "      <td>A family wedding reignites the ancient feud be...</td>\n",
       "    </tr>\n",
       "    <tr>\n",
       "      <th>3</th>\n",
       "      <td>4</td>\n",
       "      <td>Cheated on, mistreated and stepped on, the wom...</td>\n",
       "    </tr>\n",
       "    <tr>\n",
       "      <th>4</th>\n",
       "      <td>5</td>\n",
       "      <td>Just when George Banks has recovered from his ...</td>\n",
       "    </tr>\n",
       "    <tr>\n",
       "      <th>...</th>\n",
       "      <td>...</td>\n",
       "      <td>...</td>\n",
       "    </tr>\n",
       "    <tr>\n",
       "      <th>63</th>\n",
       "      <td>71</td>\n",
       "      <td>Max Kirkpatrick is a cop who protects Kate McQ...</td>\n",
       "    </tr>\n",
       "    <tr>\n",
       "      <th>64</th>\n",
       "      <td>72</td>\n",
       "      <td>After college graduation, Grover's girlfriend ...</td>\n",
       "    </tr>\n",
       "    <tr>\n",
       "      <th>65</th>\n",
       "      <td>73</td>\n",
       "      <td>In France during World War II, a poor and illi...</td>\n",
       "    </tr>\n",
       "    <tr>\n",
       "      <th>66</th>\n",
       "      <td>74</td>\n",
       "      <td>The seeds of love are planted when Lisa, a hig...</td>\n",
       "    </tr>\n",
       "    <tr>\n",
       "      <th>67</th>\n",
       "      <td>75</td>\n",
       "      <td>A writer returns to his hometown where he face...</td>\n",
       "    </tr>\n",
       "  </tbody>\n",
       "</table>\n",
       "<p>68 rows × 2 columns</p>\n",
       "</div>"
      ],
      "text/plain": [
       "   moveId                                           sinopsis\n",
       "0       1  Led by Woody, Andy's toys live happily in his ...\n",
       "1       2  When siblings Judy and Peter discover an encha...\n",
       "2       3  A family wedding reignites the ancient feud be...\n",
       "3       4  Cheated on, mistreated and stepped on, the wom...\n",
       "4       5  Just when George Banks has recovered from his ...\n",
       "..    ...                                                ...\n",
       "63     71  Max Kirkpatrick is a cop who protects Kate McQ...\n",
       "64     72  After college graduation, Grover's girlfriend ...\n",
       "65     73  In France during World War II, a poor and illi...\n",
       "66     74  The seeds of love are planted when Lisa, a hig...\n",
       "67     75  A writer returns to his hometown where he face...\n",
       "\n",
       "[68 rows x 2 columns]"
      ]
     },
     "execution_count": 9,
     "metadata": {},
     "output_type": "execute_result"
    }
   ],
   "source": [
    "nuestradatabase"
   ]
  },
  {
   "cell_type": "code",
   "execution_count": null,
   "id": "259c2179-f8d5-4047-bdbe-6c86bbd79e2b",
   "metadata": {},
   "outputs": [],
   "source": []
  }
 ],
 "metadata": {
  "kernelspec": {
   "display_name": "Python 3 (ipykernel)",
   "language": "python",
   "name": "python3"
  },
  "language_info": {
   "codemirror_mode": {
    "name": "ipython",
    "version": 3
   },
   "file_extension": ".py",
   "mimetype": "text/x-python",
   "name": "python",
   "nbconvert_exporter": "python",
   "pygments_lexer": "ipython3",
   "version": "3.9.15"
  }
 },
 "nbformat": 4,
 "nbformat_minor": 5
}

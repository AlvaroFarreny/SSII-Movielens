{
 "cells": [
  {
   "cell_type": "markdown",
   "id": "2aba869f-1118-4423-a68c-028d4a014c6e",
   "metadata": {},
   "source": [
    "### Scraping IMDB"
   ]
  },
  {
   "cell_type": "code",
   "execution_count": 1,
   "id": "d1164bdf-833d-4b50-b2a5-d6988910c490",
   "metadata": {},
   "outputs": [
    {
     "data": {
      "text/plain": [
       "'https://www.imdb.com/'"
      ]
     },
     "execution_count": 1,
     "metadata": {},
     "output_type": "execute_result"
    }
   ],
   "source": [
    "\"https://www.imdb.com/\""
   ]
  },
  {
   "cell_type": "code",
   "execution_count": 98,
   "id": "e21c3a8a-edfc-4f9b-8920-da88abe4066c",
   "metadata": {},
   "outputs": [],
   "source": [
    "import pandas as pd\n",
    "from bs4 import BeautifulSoup as bs\n",
    "from selenium import webdriver\n",
    "from selenium.webdriver.common.by import By\n",
    "from selenium.webdriver.chrome.options import Options\n",
    "from selenium.webdriver.common.keys import Keys\n",
    "from selenium.common.exceptions import NoSuchElementException\n",
    "from webdriver_manager.chrome import ChromeDriverManager"
   ]
  },
  {
   "cell_type": "code",
   "execution_count": 99,
   "id": "f2a6e4ac-bcf2-4e6e-ab46-a8d9dccdad08",
   "metadata": {},
   "outputs": [],
   "source": [
    "tmdblb = \"862\"\n",
    "url = \"https://www.themoviedb.org/movie/\" + tmdblb"
   ]
  },
  {
   "cell_type": "code",
   "execution_count": 100,
   "id": "67ce59e0-0a1b-49ab-9b0a-43fad0e4510b",
   "metadata": {},
   "outputs": [
    {
     "name": "stderr",
     "output_type": "stream",
     "text": [
      "C:\\Users\\Usuario\\AppData\\Local\\Temp\\ipykernel_15472\\619267591.py:6: DeprecationWarning: use options instead of chrome_options\n",
      "  driver = webdriver.Chrome(chrome_options=chrome_options)\n"
     ]
    }
   ],
   "source": [
    "# Crear opciones de Chrome\n",
    "chrome_options = Options()\n",
    "# Establecer el idioma en ingles\n",
    "chrome_options.add_argument(\"--lang=en\")\n",
    "# Inicializar el controlador de Chrome\n",
    "driver = webdriver.Chrome(chrome_options=chrome_options)"
   ]
  },
  {
   "cell_type": "code",
   "execution_count": 101,
   "id": "32eaea1e-eb77-474a-b58a-61fe903293ed",
   "metadata": {},
   "outputs": [],
   "source": [
    "driver.get(url)\n",
    "html = driver.page_source\n",
    "soup = bs(html)\n",
    "#cerramos el navegador del scraper\n",
    "driver.quit()"
   ]
  },
  {
   "cell_type": "code",
   "execution_count": 102,
   "id": "30609d28-bd8e-464e-b574-b26ae463a2c1",
   "metadata": {},
   "outputs": [
    {
     "name": "stdout",
     "output_type": "stream",
     "text": [
      "Led by Woody, Andy's toys live happily in his room until Andy's birthday brings Buzz Lightyear onto the scene. Afraid of losing his place in Andy's heart, Woody plots against Buzz. But when circumstances separate Buzz and Woody from their owner, the duo eventually learns to put aside their differences.\n"
     ]
    }
   ],
   "source": [
    "sinop = soup.find_all(\"div\", class_=\"overview\")\n",
    "for p in sinop:\n",
    "    sinopsis = p.get_text(strip=True)\n",
    "    print(sinopsis)"
   ]
  },
  {
   "cell_type": "code",
   "execution_count": 103,
   "id": "f5238937-2449-48d3-a187-248d027c1295",
   "metadata": {},
   "outputs": [],
   "source": [
    "import re"
   ]
  },
  {
   "cell_type": "code",
   "execution_count": 104,
   "id": "8fd323bd-0326-420c-bfbf-a2c504b4b3ca",
   "metadata": {},
   "outputs": [
    {
     "name": "stdout",
     "output_type": "stream",
     "text": [
      "80\n"
     ]
    }
   ],
   "source": [
    "rating = soup.find_all(\"span\", class_=\"icon\")\n",
    "for per in rating:\n",
    "    valor = per.get('class')[1]\n",
    "\n",
    "match = re.search(r'icon-r\\d\\d', valor)\n",
    "\n",
    "if match:\n",
    "  # Obtenemos el valor de los dos números\n",
    "  porcentaje = match.group()[6:]\n",
    "\n",
    "print(porcentaje) "
   ]
  },
  {
   "cell_type": "code",
   "execution_count": 105,
   "id": "3045d48d-8a8d-4ef3-8349-52297f6c85b4",
   "metadata": {},
   "outputs": [],
   "source": [
    "import requests"
   ]
  },
  {
   "cell_type": "code",
   "execution_count": 112,
   "id": "b70a1ab9-50be-4836-9d8a-c74f4be871c3",
   "metadata": {},
   "outputs": [
    {
     "name": "stdout",
     "output_type": "stream",
     "text": [
      "<Response [200]>\n"
     ]
    }
   ],
   "source": [
    "poster = soup.find_all(\"img\", class_=\"poster\")\n",
    "url_poster = poster[1].get('src')\n",
    "response2 = requests.get(\"https://www.google.com/search?q=\"+url_poster)\n"
   ]
  },
  {
   "cell_type": "code",
   "execution_count": 90,
   "id": "a14fed1f-6612-4bfa-ad3e-354bc9824689",
   "metadata": {},
   "outputs": [
    {
     "name": "stdout",
     "output_type": "stream",
     "text": [
      "SINOPSIS: Led by Woody, Andy's toys live happily in his room until Andy's birthday brings Buzz Lightyear onto the scene. Afraid of losing his place in Andy's heart, Woody plots against Buzz. But when circumstances separate Buzz and Woody from their owner, the duo eventually learns to put aside their differences.\n",
      "PORCENTAJE: 80\n"
     ]
    },
    {
     "ename": "NameError",
     "evalue": "name 'foto' is not defined",
     "output_type": "error",
     "traceback": [
      "\u001b[1;31m---------------------------------------------------------------------------\u001b[0m",
      "\u001b[1;31mNameError\u001b[0m                                 Traceback (most recent call last)",
      "Cell \u001b[1;32mIn[90], line 3\u001b[0m\n\u001b[0;32m      1\u001b[0m \u001b[38;5;28mprint\u001b[39m(\u001b[38;5;124m\"\u001b[39m\u001b[38;5;124mSINOPSIS: \u001b[39m\u001b[38;5;124m\"\u001b[39m \u001b[38;5;241m+\u001b[39m sinopsis)\n\u001b[0;32m      2\u001b[0m \u001b[38;5;28mprint\u001b[39m(\u001b[38;5;124m\"\u001b[39m\u001b[38;5;124mPORCENTAJE: \u001b[39m\u001b[38;5;124m\"\u001b[39m \u001b[38;5;241m+\u001b[39m porcentaje)\n\u001b[1;32m----> 3\u001b[0m \u001b[38;5;28mprint\u001b[39m(\u001b[38;5;124m\"\u001b[39m\u001b[38;5;124mFOTO: \u001b[39m\u001b[38;5;124m\"\u001b[39m \u001b[38;5;241m+\u001b[39m \u001b[43mfoto\u001b[49m)\n",
      "\u001b[1;31mNameError\u001b[0m: name 'foto' is not defined"
     ]
    }
   ],
   "source": [
    "print(\"SINOPSIS: \" + sinopsis)\n",
    "print(\"PORCENTAJE: \" + porcentaje)\n",
    "print(\"FOTO: \" + foto)"
   ]
  },
  {
   "cell_type": "code",
   "execution_count": null,
   "id": "78119785-5f6d-4666-a22d-3f4ba9d3b358",
   "metadata": {},
   "outputs": [],
   "source": []
  },
  {
   "cell_type": "code",
   "execution_count": null,
   "id": "992b254c-abd7-4695-a44e-0c9acf4d40ea",
   "metadata": {},
   "outputs": [],
   "source": []
  },
  {
   "cell_type": "code",
   "execution_count": null,
   "id": "b2a65da6-cf1f-4fd1-bb1b-eca6e8b8c06d",
   "metadata": {},
   "outputs": [],
   "source": [
    "saca descripción, foto, rating de imdb si puedes"
   ]
  }
 ],
 "metadata": {
  "kernelspec": {
   "display_name": "Python 3 (ipykernel)",
   "language": "python",
   "name": "python3"
  },
  "language_info": {
   "codemirror_mode": {
    "name": "ipython",
    "version": 3
   },
   "file_extension": ".py",
   "mimetype": "text/x-python",
   "name": "python",
   "nbconvert_exporter": "python",
   "pygments_lexer": "ipython3",
   "version": "3.9.15"
  }
 },
 "nbformat": 4,
 "nbformat_minor": 5
}

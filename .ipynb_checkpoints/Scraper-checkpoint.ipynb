{
 "cells": [
  {
   "cell_type": "markdown",
   "id": "ccfe4602-c2c4-4cc5-8d32-fd2478de8cd2",
   "metadata": {},
   "source": [
    "## Scraper"
   ]
  },
  {
   "cell_type": "code",
   "execution_count": 9,
   "id": "0c1069b8-a21e-4fd4-9661-a2702bd2e2d5",
   "metadata": {},
   "outputs": [
    {
     "data": {
      "text/plain": [
       "'pip install webdriver-manager'"
      ]
     },
     "execution_count": 9,
     "metadata": {},
     "output_type": "execute_result"
    }
   ],
   "source": [
    "#### dependencias\n",
    "\"pip install selenium\"\n",
    "\"pip install webdriver-manager\" "
   ]
  },
  {
   "cell_type": "code",
   "execution_count": 65,
   "id": "fa4f5858-3f1f-43e3-8d14-18e8104da81e",
   "metadata": {},
   "outputs": [],
   "source": [
    "import pandas as pd\n",
    "from bs4 import BeautifulSoup as bs\n",
    "from selenium import webdriver\n",
    "from selenium.webdriver.common.by import By\n",
    "from selenium.webdriver.chrome.options import Options\n",
    "from selenium.webdriver.common.keys import Keys\n",
    "from selenium.common.exceptions import NoSuchElementException\n",
    "from webdriver_manager.chrome import ChromeDriverManager"
   ]
  },
  {
   "cell_type": "code",
   "execution_count": 66,
   "id": "d67fa7d9-0b13-4db8-bfce-a9a660af3401",
   "metadata": {},
   "outputs": [],
   "source": [
    "tmdblb = \"862\""
   ]
  },
  {
   "cell_type": "code",
   "execution_count": 67,
   "id": "d666df34-8813-438f-837d-29a52e01b0df",
   "metadata": {},
   "outputs": [],
   "source": [
    "url = \"https://www.themoviedb.org/movie/\" + tmdblb"
   ]
  },
  {
   "cell_type": "code",
   "execution_count": 68,
   "id": "e5cdbfdc-e965-42ce-b770-ba55cf26bc77",
   "metadata": {},
   "outputs": [
    {
     "name": "stderr",
     "output_type": "stream",
     "text": [
      "C:\\Users\\Usuario\\AppData\\Local\\Temp\\ipykernel_16708\\2115925903.py:6: DeprecationWarning: use options instead of chrome_options\n",
      "  driver = webdriver.Chrome(chrome_options=chrome_options)\n"
     ]
    }
   ],
   "source": [
    "# Crear opciones de Chrome\n",
    "chrome_options = Options()\n",
    "# Establecer el idioma en ingles\n",
    "chrome_options.add_argument(\"--lang=en\")\n",
    "# Inicializar el controlador de Chrome\n",
    "driver = webdriver.Chrome(chrome_options=chrome_options)\n",
    "# Abra una página web en Chrome\n",
    "driver.get(\"https://www.example.com\")"
   ]
  },
  {
   "cell_type": "code",
   "execution_count": 69,
   "id": "04403e98-a6c5-4d2b-8f26-78b01f198f08",
   "metadata": {},
   "outputs": [],
   "source": [
    "driver.get(url)\n",
    "html = driver.page_source\n",
    "soup = bs(html)"
   ]
  },
  {
   "cell_type": "code",
   "execution_count": 74,
   "id": "54c7b6e1-a663-41b5-b019-89fc739f4db8",
   "metadata": {},
   "outputs": [
    {
     "name": "stdout",
     "output_type": "stream",
     "text": [
      "Led by Woody Andy's toys live happily in his room until Andy's birthday brings Buzz Lightyear onto the scene Afraid of losing his place in Andy's heart Woody plots against Buzz But when circumstances separate Buzz and Woody from their owner the duo eventually learns to put aside their differences\n"
     ]
    }
   ],
   "source": [
    "box = soup.find_all(\"div\", class_=\"overview\")\n",
    "for p in box:\n",
    "    sinopsis = p.get_text(strip=True)\n",
    "#cerramos el navegador del scraper\n",
    "driver.quit()\n",
    "#limpiamos la sinopsis de los signos de puntuación para limpiarlo\n",
    "for w in sinopsis:\n",
    "    sinopsis = sinopsis.replace(\",\",\"\")\n",
    "    sinopsis = sinopsis.replace(\".\",\"\")\n",
    "#printeamos el texto limpio\n",
    "print(sinopsis)"
   ]
  },
  {
   "cell_type": "code",
   "execution_count": 71,
   "id": "f19ef7c6-29ef-4fc5-aaf9-4a9d0beeebc4",
   "metadata": {},
   "outputs": [],
   "source": [
    "#creamos el dataframe\n",
    "df = pd.DataFrame()"
   ]
  },
  {
   "cell_type": "code",
   "execution_count": 75,
   "id": "00caa831-c921-4d39-8d9d-2aa24bce1ee4",
   "metadata": {},
   "outputs": [],
   "source": [
    "#spliteamos la sinopsis en palabras para posteriormente introducirlas en el df \n",
    "palabras = sinopsis.split()\n",
    "df[palabras] = 0"
   ]
  },
  {
   "cell_type": "code",
   "execution_count": 78,
   "id": "4a904496-05f2-48e1-850b-edf53feee1b6",
   "metadata": {},
   "outputs": [
    {
     "data": {
      "text/plain": [
       "Index(['Led', 'by', 'Woody', 'Andy's', 'toys', 'live', 'happily', 'in', 'his',\n",
       "       'room', 'until', 'birthday', 'brings', 'Buzz', 'Lightyear', 'onto',\n",
       "       'the', 'scene', 'Afraid', 'of', 'losing', 'place', 'heart', 'plots',\n",
       "       'against', 'But', 'when', 'circumstances', 'separate', 'and', 'from',\n",
       "       'their', 'owner', 'duo', 'eventually', 'learns', 'to', 'put', 'aside',\n",
       "       'differences'],\n",
       "      dtype='object')"
      ]
     },
     "execution_count": 78,
     "metadata": {},
     "output_type": "execute_result"
    }
   ],
   "source": [
    "df.columns"
   ]
  },
  {
   "cell_type": "code",
   "execution_count": 79,
   "id": "1a20edd8-5c7e-4bf4-948c-c02b1e18edce",
   "metadata": {},
   "outputs": [
    {
     "data": {
      "text/plain": [
       "'vale ahora hay que volver a pasar la sinopsis normal contra dichas palabras para ver cuantas veces se repiten dichas palabras en la sinopsis'"
      ]
     },
     "execution_count": 79,
     "metadata": {},
     "output_type": "execute_result"
    }
   ],
   "source": [
    "\"vale ahora hay que volver a pasar la sinopsis normal contra dichas palabras para ver cuantas veces se repiten dichas palabras en la sinopsis\""
   ]
  },
  {
   "cell_type": "code",
   "execution_count": 80,
   "id": "df253408-c9a1-46d6-8419-6f4ced00fc65",
   "metadata": {},
   "outputs": [
    {
     "data": {
      "text/plain": [
       "'es decir, hay palabras en la sinopsis que se repiten pero no estan marcadas como repetidas'"
      ]
     },
     "execution_count": 80,
     "metadata": {},
     "output_type": "execute_result"
    }
   ],
   "source": [
    "\"es decir, hay palabras en la sinopsis que se repiten pero no estan marcadas como repetidas\""
   ]
  },
  {
   "cell_type": "code",
   "execution_count": null,
   "id": "269d3d5f-8ab3-4ee0-b7b1-bbe483f46aa7",
   "metadata": {},
   "outputs": [],
   "source": []
  }
 ],
 "metadata": {
  "kernelspec": {
   "display_name": "Python 3 (ipykernel)",
   "language": "python",
   "name": "python3"
  },
  "language_info": {
   "codemirror_mode": {
    "name": "ipython",
    "version": 3
   },
   "file_extension": ".py",
   "mimetype": "text/x-python",
   "name": "python",
   "nbconvert_exporter": "python",
   "pygments_lexer": "ipython3",
   "version": "3.9.12"
  }
 },
 "nbformat": 4,
 "nbformat_minor": 5
}

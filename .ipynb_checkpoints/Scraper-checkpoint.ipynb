{
 "cells": [
  {
   "cell_type": "markdown",
   "id": "ccfe4602-c2c4-4cc5-8d32-fd2478de8cd2",
   "metadata": {},
   "source": [
    "## Scraper"
   ]
  },
  {
   "cell_type": "code",
   "execution_count": 13,
   "id": "a0603698-4f7d-47f0-ac97-a123c6813bec",
   "metadata": {},
   "outputs": [],
   "source": [
    "#importamos las librerias necesarias para realizar el ejercicio\n",
    "import requests\n",
    "import pandas as pd\n",
    "from bs4 import BeautifulSoup\n",
    "import sys\n",
    "# import timef\n",
    "from webdriver_manager.chrome import ChromeDriverManager"
   ]
  },
  {
   "cell_type": "code",
   "execution_count": 24,
   "id": "c62b99f2-af34-4d7b-8fff-70b57aee051a",
   "metadata": {},
   "outputs": [],
   "source": [
    "import pandas as pd\n",
    "import sys\n",
    "from selenium import webdriver\n",
    "from selenium.webdriver.common.by import By\n",
    "from webdriver_manager.chrome import ChromeDriverManager\n",
    "from selenium.webdriver.common.keys import Keys\n",
    "from selenium.common.exceptions import NoSuchElementException\n",
    "import time\n",
    "from webdriver_manager.chrome import ChromeDriverManager"
   ]
  },
  {
   "cell_type": "code",
   "execution_count": 26,
   "id": "0d5a3663-6975-409b-93aa-09614c6fa437",
   "metadata": {},
   "outputs": [
    {
     "name": "stderr",
     "output_type": "stream",
     "text": [
      "<ipython-input-26-1f90673064f1>:3: DeprecationWarning: executable_path has been deprecated, please pass in a Service object\n",
      "  driver = webdriver.Chrome(ChromeDriverManager().install())\n"
     ]
    }
   ],
   "source": [
    "from selenium import webdriver                    #import webDriver\n",
    "chrome_options = webdriver.ChromeOptions()\n",
    "driver = webdriver.Chrome(ChromeDriverManager().install())\n",
    "\n",
    "url = \"https://www.themoviedb.org/movie/76600\"\n",
    "driver.get(url)\n",
    "html = driver.page_source"
   ]
  },
  {
   "cell_type": "code",
   "execution_count": 27,
   "id": "f51cc563-86c6-40f3-9eed-b3560967dac0",
   "metadata": {},
   "outputs": [],
   "source": [
    "from bs4 import BeautifulSoup as bs\n",
    "soup = bs(html)"
   ]
  },
  {
   "cell_type": "code",
   "execution_count": 31,
   "id": "d3dbcbb8-e235-4559-a0fa-daeaf4310ce0",
   "metadata": {},
   "outputs": [
    {
     "data": {
      "text/plain": [
       "[<selenium.webdriver.remote.webelement.WebElement (session=\"63aa3312c241779dd9ee85fcdc2caadb\", element=\"d7fbd68f-a3e5-4d0a-9ce7-d9e90b42ef7f\")>]"
      ]
     },
     "execution_count": 31,
     "metadata": {},
     "output_type": "execute_result"
    }
   ],
   "source": [
    "element = driver.find_elements(By.CLASS_NAME,'overview')\n",
    "\n",
    "for element in elements: #hacemos un bucle for para sacar toda la información sobre dichos ordenadores\n",
    "    try:\n",
    "        name = element.find_element(By.CLASS_NAME,'df-card__title').text\n",
    "        #guardamos la información extraida en los arrays\n",
    "        print(name)\n",
    "    except:\n",
    "        NoSuchElementException"
   ]
  },
  {
   "cell_type": "code",
   "execution_count": null,
   "id": "bca065e4-cd81-4041-962f-35e1c2e76e74",
   "metadata": {},
   "outputs": [],
   "source": []
  },
  {
   "cell_type": "code",
   "execution_count": 7,
   "id": "a29b9c87-3c49-479f-b855-2d8951b5ea38",
   "metadata": {},
   "outputs": [],
   "source": [
    "#obtenemos la url de la web para hacer el scraping\n",
    "url = \"https://www.themoviedb.org/movie/76600\"\n",
    "data = requests.get(url).text"
   ]
  },
  {
   "cell_type": "code",
   "execution_count": 8,
   "id": "dc75a40b-6c7d-4483-a544-80c99a5a9ea7",
   "metadata": {},
   "outputs": [],
   "source": [
    "#creamos el soup\n",
    "soup = BeautifulSoup(data, 'html.parser')"
   ]
  },
  {
   "cell_type": "code",
   "execution_count": 9,
   "id": "5a0ed847-790f-4fb5-b6da-817fbda76ae0",
   "metadata": {},
   "outputs": [],
   "source": [
    "# Creamos un dataframe\n",
    "df = pd.DataFrame(columns=['Nombre', 'Sinopsis'])"
   ]
  },
  {
   "cell_type": "code",
   "execution_count": 12,
   "id": "94d887e9-8c8d-4226-a6b7-38b04288ea87",
   "metadata": {},
   "outputs": [
    {
     "data": {
      "text/plain": [
       "[]"
      ]
     },
     "execution_count": 12,
     "metadata": {},
     "output_type": "execute_result"
    }
   ],
   "source": [
    "cursivas = soup.find_all('div', class_='overview')\n",
    "cursivas"
   ]
  },
  {
   "cell_type": "code",
   "execution_count": null,
   "id": "73fb1406-baa8-4d8c-9ca4-3501f445927d",
   "metadata": {},
   "outputs": [],
   "source": []
  }
 ],
 "metadata": {
  "kernelspec": {
   "display_name": "Python 3",
   "language": "python",
   "name": "python3"
  },
  "language_info": {
   "codemirror_mode": {
    "name": "ipython",
    "version": 3
   },
   "file_extension": ".py",
   "mimetype": "text/x-python",
   "name": "python",
   "nbconvert_exporter": "python",
   "pygments_lexer": "ipython3",
   "version": "3.8.8"
  }
 },
 "nbformat": 4,
 "nbformat_minor": 5
}

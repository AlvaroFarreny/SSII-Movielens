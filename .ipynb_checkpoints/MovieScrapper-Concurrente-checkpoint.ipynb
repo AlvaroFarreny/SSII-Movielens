{
 "cells": [
  {
   "cell_type": "code",
   "execution_count": 1,
   "id": "bb2e1d6b-4d6d-41d7-91ee-45a0049e0524",
   "metadata": {},
   "outputs": [
    {
     "name": "stderr",
     "output_type": "stream",
     "text": [
      "C:\\Users\\Carlow\\AppData\\Local\\Temp\\ipykernel_17288\\263426285.py:46: DeprecationWarning: use options instead of chrome_options\n",
      "  driver = webdriver.Chrome(chrome_options=chrome_options)\n"
     ]
    },
    {
     "ename": "NameError",
     "evalue": "name 're' is not defined",
     "output_type": "error",
     "traceback": [
      "\u001b[1;31m---------------------------------------------------------------------------\u001b[0m",
      "\u001b[1;31mNameError\u001b[0m                                 Traceback (most recent call last)",
      "\u001b[1;32m~\\AppData\\Local\\Temp\\ipykernel_17288\\263426285.py\u001b[0m in \u001b[0;36m<module>\u001b[1;34m\u001b[0m\n\u001b[0;32m     67\u001b[0m \u001b[1;33m\u001b[0m\u001b[0m\n\u001b[0;32m     68\u001b[0m \u001b[1;32mfor\u001b[0m \u001b[0mmovie\u001b[0m \u001b[1;32min\u001b[0m \u001b[0mmovies\u001b[0m\u001b[1;33m[\u001b[0m\u001b[1;34m\"title\"\u001b[0m\u001b[1;33m]\u001b[0m\u001b[1;33m:\u001b[0m\u001b[1;33m\u001b[0m\u001b[1;33m\u001b[0m\u001b[0m\n\u001b[1;32m---> 69\u001b[1;33m     \u001b[0mget_sinopsis\u001b[0m\u001b[1;33m(\u001b[0m\u001b[0mmovie\u001b[0m\u001b[1;33m)\u001b[0m\u001b[1;33m\u001b[0m\u001b[1;33m\u001b[0m\u001b[0m\n\u001b[0m\u001b[0;32m     70\u001b[0m \u001b[1;33m\u001b[0m\u001b[0m\n\u001b[0;32m     71\u001b[0m \u001b[1;33m\u001b[0m\u001b[0m\n",
      "\u001b[1;32m~\\AppData\\Local\\Temp\\ipykernel_17288\\263426285.py\u001b[0m in \u001b[0;36mget_sinopsis\u001b[1;34m(movie)\u001b[0m\n\u001b[0;32m     55\u001b[0m     \u001b[1;32mfor\u001b[0m \u001b[0mper\u001b[0m \u001b[1;32min\u001b[0m \u001b[0mrating\u001b[0m\u001b[1;33m:\u001b[0m\u001b[1;33m\u001b[0m\u001b[1;33m\u001b[0m\u001b[0m\n\u001b[0;32m     56\u001b[0m         \u001b[0mvalor\u001b[0m \u001b[1;33m=\u001b[0m \u001b[0mper\u001b[0m\u001b[1;33m.\u001b[0m\u001b[0mget\u001b[0m\u001b[1;33m(\u001b[0m\u001b[1;34m'class'\u001b[0m\u001b[1;33m)\u001b[0m\u001b[1;33m[\u001b[0m\u001b[1;36m1\u001b[0m\u001b[1;33m]\u001b[0m\u001b[1;33m\u001b[0m\u001b[1;33m\u001b[0m\u001b[0m\n\u001b[1;32m---> 57\u001b[1;33m     \u001b[0mmatch\u001b[0m \u001b[1;33m=\u001b[0m \u001b[0mre\u001b[0m\u001b[1;33m.\u001b[0m\u001b[0msearch\u001b[0m\u001b[1;33m(\u001b[0m\u001b[1;34mr'icon-r\\d\\d'\u001b[0m\u001b[1;33m,\u001b[0m \u001b[0mvalor\u001b[0m\u001b[1;33m)\u001b[0m\u001b[1;33m\u001b[0m\u001b[1;33m\u001b[0m\u001b[0m\n\u001b[0m\u001b[0;32m     58\u001b[0m     \u001b[1;32mif\u001b[0m \u001b[0mmatch\u001b[0m\u001b[1;33m:\u001b[0m\u001b[1;33m\u001b[0m\u001b[1;33m\u001b[0m\u001b[0m\n\u001b[0;32m     59\u001b[0m         \u001b[1;31m# Obtenemos el valor de los dos números\u001b[0m\u001b[1;33m\u001b[0m\u001b[1;33m\u001b[0m\u001b[0m\n",
      "\u001b[1;31mNameError\u001b[0m: name 're' is not defined"
     ]
    }
   ],
   "source": [
    "import pandas as pd\n",
    "from bs4 import BeautifulSoup as bs\n",
    "from selenium import webdriver\n",
    "from selenium.webdriver.common.by import By\n",
    "from selenium.webdriver.chrome.options import Options\n",
    "from selenium.webdriver.common.keys import Keys\n",
    "from selenium.common.exceptions import NoSuchElementException\n",
    "from webdriver_manager.chrome import ChromeDriverManager\n",
    "from concurrent.futures import ThreadPoolExecutor, as_completed\n",
    "import re\n",
    "\n",
    "# Leemos nuestros dataframes\n",
    "movies = pd.read_csv(\"./ml-latest-small/movies.csv\", sep=\",\")\n",
    "ratings = pd.read_csv(\"./ml-latest-small/ratings.csv\", sep=\",\")\n",
    "tags = pd.read_csv(\"./ml-latest-small/tags.csv\", sep=\",\")\n",
    "links = pd.read_csv(\"./ml-latest-small/links.csv\", sep=\",\")\n",
    "\n",
    "# Eliminamos nuelos\n",
    "movies.dropna(inplace=True)\n",
    "ratings.dropna(inplace=True)\n",
    "tags.dropna(inplace=True)\n",
    "links.dropna(inplace=True)\n",
    "\n",
    "# Extraemos el año del título\n",
    "movies['year'] = movies.title.str.extract(\"\\((\\d{4})\\)\", expand=True)\n",
    "movies.year = pd.to_datetime(movies.year, format='%Y')\n",
    "movies.year = movies.year.dt.year\n",
    "movies.title = movies.title.str[:-7]\n",
    "total=len(movies)\n",
    "cuenta=0\n",
    "nuestradatabase = pd.DataFrame()\n",
    "\n",
    "def get_sinopsis(movie):\n",
    "    titl = movies[\"title\"]\n",
    "    mov = movies.loc[titl==movie, \"movieId\"]\n",
    "    movie_id = mov.iloc[0]\n",
    "    movieId = links[\"movieId\"]\n",
    "    match = links.loc[movieId == movie_id, \"tmdbId\"]\n",
    "    tmdb = match.iloc[0]\n",
    "    tmdb = int(tmdb)\n",
    "    tmdb = str(tmdb)\n",
    "    moveiid = int(movie_id)\n",
    "    moveiid = str(moveiid)\n",
    "    url = \"https://www.themoviedb.org/movie/\" + tmdb\n",
    "    #-----------------------\n",
    "    chrome_options = Options()\n",
    "    chrome_options.add_argument(\"--lang=en\")\n",
    "    driver = webdriver.Chrome(chrome_options=chrome_options)\n",
    "    driver.get(url)\n",
    "    html = driver.page_source\n",
    "    soup = bs(html)\n",
    "    driver.quit()\n",
    "    #-----------------------\n",
    "    sinop = soup.find_all(\"div\", class_=\"overview\")\n",
    "    for p in sinop:\n",
    "        sinopsis = p.get_text(strip=True)\n",
    "    #-----------------------\n",
    "    rating = soup.find_all(\"span\", class_=\"icon\")\n",
    "    for per in rating:\n",
    "        valor = per.get('class')[1]\n",
    "    match = re.search(r'icon-r\\d\\d', valor)\n",
    "    if match:\n",
    "        # Obtenemos el valor de los dos números\n",
    "        porcentaje = match.group()[6:]\n",
    "    global nuestradatabase\n",
    "    nuestradatabase = nuestradatabase.append({'moveId':moveiid,'sinopsis':sinopsis,'rating':porcentaje}, ignore_index=True)\n",
    "for movie in movies[\"title\"]:\n",
    "    get_sinopsis(movie)\n",
    "nuestradatabase.to_csv('sinopsisDB.csv', index=False)"
   ]
  },
  {
   "cell_type": "code",
   "execution_count": 1,
   "id": "b0eac5bf-5cae-4b9c-876a-106e5b18c857",
   "metadata": {},
   "outputs": [
    {
     "ename": "NameError",
     "evalue": "name 'nuestradatabase' is not defined",
     "output_type": "error",
     "traceback": [
      "\u001b[1;31m---------------------------------------------------------------------------\u001b[0m",
      "\u001b[1;31mNameError\u001b[0m                                 Traceback (most recent call last)",
      "\u001b[1;32m~\\AppData\\Local\\Temp\\ipykernel_34692\\204744828.py\u001b[0m in \u001b[0;36m<module>\u001b[1;34m\u001b[0m\n\u001b[1;32m----> 1\u001b[1;33m \u001b[0mnuestradatabase\u001b[0m\u001b[1;33m\u001b[0m\u001b[1;33m\u001b[0m\u001b[0m\n\u001b[0m",
      "\u001b[1;31mNameError\u001b[0m: name 'nuestradatabase' is not defined"
     ]
    }
   ],
   "source": [
    "nuestradatabase"
   ]
  },
  {
   "cell_type": "code",
   "execution_count": null,
   "id": "ecca7a6e-8984-43f1-827f-b516351420ce",
   "metadata": {},
   "outputs": [],
   "source": [
    "with ThreadPoolExecutor() as executor:\n",
    "    results = [executor.submit(get_sinopsis, movie) for movie in movies[\"title\"]]\n",
    "    for f in as_completed(results):\n",
    "        pass"
   ]
  }
 ],
 "metadata": {
  "kernelspec": {
   "display_name": "Python 3 (ipykernel)",
   "language": "python",
   "name": "python3"
  },
  "language_info": {
   "codemirror_mode": {
    "name": "ipython",
    "version": 3
   },
   "file_extension": ".py",
   "mimetype": "text/x-python",
   "name": "python",
   "nbconvert_exporter": "python",
   "pygments_lexer": "ipython3",
   "version": "3.9.13"
  }
 },
 "nbformat": 4,
 "nbformat_minor": 5
}

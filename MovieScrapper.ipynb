{
 "cells": [
  {
   "cell_type": "markdown",
   "id": "2aba869f-1118-4423-a68c-028d4a014c6e",
   "metadata": {},
   "source": [
    "### Scraping IMDB"
   ]
  },
  {
   "cell_type": "code",
   "execution_count": 1,
   "id": "e21c3a8a-edfc-4f9b-8920-da88abe4066c",
   "metadata": {
    "tags": []
   },
   "outputs": [],
   "source": [
    "import pandas as pd\n",
    "from bs4 import BeautifulSoup as bs\n",
    "from selenium import webdriver\n",
    "from selenium.webdriver.common.by import By\n",
    "from selenium.webdriver.chrome.options import Options\n",
    "from selenium.webdriver.common.keys import Keys\n",
    "from selenium.common.exceptions import NoSuchElementException\n",
    "from webdriver_manager.chrome import ChromeDriverManager"
   ]
  },
  {
   "cell_type": "code",
   "execution_count": 2,
   "id": "8e3d11cf-cbf6-477f-a83e-03af13c21fee",
   "metadata": {},
   "outputs": [],
   "source": [
    "# Leemos nuestros dataframes\n",
    "movies = pd.read_csv(\"./ml-latest-small/movies.csv\", sep=\",\")\n",
    "ratings = pd.read_csv(\"./ml-latest-small/ratings.csv\", sep=\",\")\n",
    "tags = pd.read_csv(\"./ml-latest-small/tags.csv\", sep=\",\")\n",
    "links = pd.read_csv(\"./ml-latest-small/links.csv\", sep=\",\")\n",
    "\n",
    "# Eliminamos nuelos\n",
    "movies.dropna(inplace=True)\n",
    "ratings.dropna(inplace=True)\n",
    "tags.dropna(inplace=True)\n",
    "links.dropna(inplace=True)\n",
    "\n",
    "# Extraemos el año del título\n",
    "movies['year'] = movies.title.str.extract(\"\\((\\d{4})\\)\", expand=True)\n",
    "movies.year = pd.to_datetime(movies.year, format='%Y')\n",
    "movies.year = movies.year.dt.year\n",
    "movies.title = movies.title.str[:-7]"
   ]
  },
  {
   "cell_type": "code",
   "execution_count": 3,
   "id": "bef74387-2e8f-46d3-ba21-afbc5e7de35c",
   "metadata": {},
   "outputs": [],
   "source": [
    "total=len(movies)"
   ]
  },
  {
   "cell_type": "code",
   "execution_count": null,
   "id": "744c9a26-26ee-4a30-b98a-3b35476109be",
   "metadata": {
    "tags": []
   },
   "outputs": [],
   "source": [
    "cuenta=0\n",
    "nuestradatabase = pd.DataFrame()\n",
    "for movie in movies[\"title\"]:\n",
    "    titl = movies[\"title\"]\n",
    "    mov = movies.loc[titl==movie, \"movieId\"]\n",
    "    movie_id = mov.iloc[0]\n",
    "    movieId = links[\"movieId\"]\n",
    "    match = links.loc[movieId == movie_id, \"tmdbId\"]\n",
    "    tmdb = match.iloc[0]\n",
    "    tmdb = int(tmdb)\n",
    "    tmdb = str(tmdb)\n",
    "    moveiid = int(movie_id)\n",
    "    moveiid = str(moveiid)\n",
    "    url = \"https://www.themoviedb.org/movie/\" + tmdb\n",
    "    #----------------\n",
    "    chrome_options = Options()\n",
    "    chrome_options.add_argument(\"--lang=en\")\n",
    "    driver = webdriver.Chrome(chrome_options=chrome_options)\n",
    "    driver.get(url)\n",
    "    html = driver.page_source\n",
    "    soup = bs(html)\n",
    "    driver.quit()\n",
    "    #----------------\n",
    "    sinop = soup.find_all(\"div\", class_=\"overview\")\n",
    "    for p in sinop:\n",
    "        sinopsis = p.get_text(strip=True)\n",
    "    nuestradatabase = nuestradatabase.append({'moveId':moveiid,'sinopsis':sinopsis}, ignore_index=True)\n",
    "    cuenta=cuenta+1\n",
    "    print(str(cuenta) + \"/\" + str(total))\n",
    "nuestradatabase.to_csv('sinopsisDB.csv', index=False)"
   ]
  },
  {
   "cell_type": "code",
   "execution_count": null,
   "id": "d8874ea7-c3de-4a7a-aae5-d7950aac50f4",
   "metadata": {},
   "outputs": [],
   "source": [
    "nuestradatabase"
   ]
  },
  {
   "cell_type": "code",
   "execution_count": null,
   "id": "259c2179-f8d5-4047-bdbe-6c86bbd79e2b",
   "metadata": {},
   "outputs": [],
   "source": []
  }
 ],
 "metadata": {
  "kernelspec": {
   "display_name": "Python 3 (ipykernel)",
   "language": "python",
   "name": "python3"
  },
  "language_info": {
   "codemirror_mode": {
    "name": "ipython",
    "version": 3
   },
   "file_extension": ".py",
   "mimetype": "text/x-python",
   "name": "python",
   "nbconvert_exporter": "python",
   "pygments_lexer": "ipython3",
   "version": "3.9.13"
  }
 },
 "nbformat": 4,
 "nbformat_minor": 5
}

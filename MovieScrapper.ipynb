{
 "cells": [
  {
   "cell_type": "markdown",
   "id": "2aba869f-1118-4423-a68c-028d4a014c6e",
   "metadata": {},
   "source": [
    "### Scraping IMDB"
   ]
  },
  {
   "cell_type": "code",
   "execution_count": null,
   "id": "d1164bdf-833d-4b50-b2a5-d6988910c490",
   "metadata": {},
   "outputs": [],
   "source": [
    "\"https://www.imdb.com/\""
   ]
  },
  {
   "cell_type": "code",
   "execution_count": 2,
   "id": "e21c3a8a-edfc-4f9b-8920-da88abe4066c",
   "metadata": {
    "tags": []
   },
   "outputs": [],
   "source": [
    "import pandas as pd\n",
    "from bs4 import BeautifulSoup as bs\n",
    "from selenium import webdriver\n",
    "from selenium.webdriver.common.by import By\n",
    "from selenium.webdriver.chrome.options import Options\n",
    "from selenium.webdriver.common.keys import Keys\n",
    "from selenium.common.exceptions import NoSuchElementException\n",
    "from webdriver_manager.chrome import ChromeDriverManager"
   ]
  },
  {
   "cell_type": "code",
   "execution_count": 3,
   "id": "8e3d11cf-cbf6-477f-a83e-03af13c21fee",
   "metadata": {},
   "outputs": [],
   "source": [
    "# Leemos nuestros dataframes\n",
    "movies = pd.read_csv(\"./ml-latest-small/movies.csv\", sep=\",\")\n",
    "ratings = pd.read_csv(\"./ml-latest-small/ratings.csv\", sep=\",\")\n",
    "tags = pd.read_csv(\"./ml-latest-small/tags.csv\", sep=\",\")\n",
    "links = pd.read_csv(\"./ml-latest-small/links.csv\", sep=\",\")\n",
    "\n",
    "# Eliminamos nuelos\n",
    "movies.dropna(inplace=True)\n",
    "ratings.dropna(inplace=True)\n",
    "tags.dropna(inplace=True)\n",
    "links.dropna(inplace=True)"
   ]
  },
  {
   "cell_type": "code",
   "execution_count": 4,
   "id": "39034895-b969-419a-97fd-16198dd8362f",
   "metadata": {},
   "outputs": [],
   "source": [
    "# Extraemos el año del título\n",
    "movies['year'] = movies.title.str.extract(\"\\((\\d{4})\\)\", expand=True)\n",
    "movies.year = pd.to_datetime(movies.year, format='%Y')\n",
    "movies.year = movies.year.dt.year\n",
    "movies.title = movies.title.str[:-7]"
   ]
  },
  {
   "cell_type": "code",
   "execution_count": 5,
   "id": "294baa3b-23e1-485d-8e1d-31788ffdf0a3",
   "metadata": {},
   "outputs": [],
   "source": [
    "titl = movies[\"title\"]"
   ]
  },
  {
   "cell_type": "code",
   "execution_count": 6,
   "id": "00245f1e-9094-4919-8f91-21a8ea000168",
   "metadata": {},
   "outputs": [],
   "source": [
    "mov = movies.loc[titl == \"Jumanji\", \"movieId\"]"
   ]
  },
  {
   "cell_type": "code",
   "execution_count": 8,
   "id": "09e6800e-e38b-4ece-a666-1d88adbae11b",
   "metadata": {},
   "outputs": [],
   "source": [
    "movie_id = mov.iloc[0]"
   ]
  },
  {
   "cell_type": "code",
   "execution_count": 11,
   "id": "a12fbe91-095a-4087-ad18-a8e049aaa039",
   "metadata": {},
   "outputs": [],
   "source": [
    "movieId = links[\"movieId\"]"
   ]
  },
  {
   "cell_type": "code",
   "execution_count": 13,
   "id": "634cf0f9-32e7-47da-bcd0-126732015286",
   "metadata": {},
   "outputs": [],
   "source": [
    "match = links.loc[movieId == movie_id, \"tmdbId\"]"
   ]
  },
  {
   "cell_type": "code",
   "execution_count": 16,
   "id": "3dc92866-c1ce-44aa-83f7-fe7a776befa3",
   "metadata": {},
   "outputs": [],
   "source": [
    "tmdb = match.iloc[0]"
   ]
  },
  {
   "cell_type": "code",
   "execution_count": 18,
   "id": "f2a6e4ac-bcf2-4e6e-ab46-a8d9dccdad08",
   "metadata": {},
   "outputs": [],
   "source": [
    "url = \"https://www.themoviedb.org/movie/\" + str(tmdb)"
   ]
  },
  {
   "cell_type": "code",
   "execution_count": 20,
   "id": "67ce59e0-0a1b-49ab-9b0a-43fad0e4510b",
   "metadata": {},
   "outputs": [
    {
     "name": "stderr",
     "output_type": "stream",
     "text": [
      "C:\\Users\\Usuario\\AppData\\Local\\Temp\\ipykernel_7164\\619267591.py:6: DeprecationWarning: use options instead of chrome_options\n",
      "  driver = webdriver.Chrome(chrome_options=chrome_options)\n"
     ]
    }
   ],
   "source": [
    "# Crear opciones de Chrome\n",
    "chrome_options = Options()\n",
    "# Establecer el idioma en ingles\n",
    "chrome_options.add_argument(\"--lang=en\")\n",
    "# Inicializar el controlador de Chrome\n",
    "driver = webdriver.Chrome(chrome_options=chrome_options)"
   ]
  },
  {
   "cell_type": "code",
   "execution_count": 21,
   "id": "32eaea1e-eb77-474a-b58a-61fe903293ed",
   "metadata": {},
   "outputs": [],
   "source": [
    "driver.get(url)\n",
    "html = driver.page_source\n",
    "soup = bs(html)\n",
    "#cerramos el navegador del scraper\n",
    "driver.quit()"
   ]
  },
  {
   "cell_type": "code",
   "execution_count": 22,
   "id": "30609d28-bd8e-464e-b574-b26ae463a2c1",
   "metadata": {},
   "outputs": [
    {
     "name": "stdout",
     "output_type": "stream",
     "text": [
      "When siblings Judy and Peter discover an enchanted board game that opens the door to a magical world, they unwittingly invite Alan -- an adult who's been trapped inside the game for 26 years -- into their living room. Alan's only hope for freedom is to finish the game, which proves risky as all three find themselves running from giant rhinoceroses, evil monkeys and other terrifying creatures.\n"
     ]
    }
   ],
   "source": [
    "sinop = soup.find_all(\"div\", class_=\"overview\")\n",
    "for p in sinop:\n",
    "    sinopsis = p.get_text(strip=True)\n",
    "    print(sinopsis)"
   ]
  },
  {
   "cell_type": "code",
   "execution_count": 23,
   "id": "f5238937-2449-48d3-a187-248d027c1295",
   "metadata": {},
   "outputs": [],
   "source": [
    "import re"
   ]
  },
  {
   "cell_type": "code",
   "execution_count": 24,
   "id": "8fd323bd-0326-420c-bfbf-a2c504b4b3ca",
   "metadata": {},
   "outputs": [
    {
     "name": "stdout",
     "output_type": "stream",
     "text": [
      "72\n"
     ]
    }
   ],
   "source": [
    "rating = soup.find_all(\"span\", class_=\"icon\")\n",
    "for per in rating:\n",
    "    valor = per.get('class')[1]\n",
    "\n",
    "match = re.search(r'icon-r\\d\\d', valor)\n",
    "\n",
    "if match:\n",
    "  # Obtenemos el valor de los dos números\n",
    "  porcentaje = match.group()[6:]\n",
    "\n",
    "print(porcentaje) "
   ]
  },
  {
   "cell_type": "code",
   "execution_count": null,
   "id": "3045d48d-8a8d-4ef3-8349-52297f6c85b4",
   "metadata": {},
   "outputs": [],
   "source": [
    "import requests"
   ]
  },
  {
   "cell_type": "code",
   "execution_count": null,
   "id": "b70a1ab9-50be-4836-9d8a-c74f4be871c3",
   "metadata": {},
   "outputs": [],
   "source": [
    "poster = soup.find_all(\"img\", class_=\"poster\")\n",
    "url_poster = poster[1].get('src')\n",
    "response2 = requests.get(\"https://www.google.com/search?q=\"+url_poster)\n",
    "print(url_poster)"
   ]
  },
  {
   "cell_type": "code",
   "execution_count": null,
   "id": "a14fed1f-6612-4bfa-ad3e-354bc9824689",
   "metadata": {},
   "outputs": [],
   "source": [
    "print(\"SINOPSIS: \" + sinopsis)\n",
    "print(\"PORCENTAJE: \" + porcentaje)\n",
    "print(\"FOTO: \" + \"foto\")"
   ]
  }
 ],
 "metadata": {
  "kernelspec": {
   "display_name": "Python 3 (ipykernel)",
   "language": "python",
   "name": "python3"
  },
  "language_info": {
   "codemirror_mode": {
    "name": "ipython",
    "version": 3
   },
   "file_extension": ".py",
   "mimetype": "text/x-python",
   "name": "python",
   "nbconvert_exporter": "python",
   "pygments_lexer": "ipython3",
   "version": "3.9.15"
  }
 },
 "nbformat": 4,
 "nbformat_minor": 5
}

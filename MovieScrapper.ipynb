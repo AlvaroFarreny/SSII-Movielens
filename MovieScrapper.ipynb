{
 "cells": [
  {
   "cell_type": "markdown",
   "id": "2aba869f-1118-4423-a68c-028d4a014c6e",
   "metadata": {},
   "source": [
    "### Scraping IMDB"
   ]
  },
  {
   "cell_type": "code",
   "execution_count": 1,
   "id": "e21c3a8a-edfc-4f9b-8920-da88abe4066c",
   "metadata": {
    "tags": []
   },
   "outputs": [],
   "source": [
    "import pandas as pd\n",
    "from bs4 import BeautifulSoup as bs\n",
    "from selenium import webdriver\n",
    "from selenium.webdriver.common.by import By\n",
    "from selenium.webdriver.chrome.options import Options\n",
    "from selenium.webdriver.common.keys import Keys\n",
    "from selenium.common.exceptions import NoSuchElementException\n",
    "from webdriver_manager.chrome import ChromeDriverManager"
   ]
  },
  {
   "cell_type": "code",
   "execution_count": 2,
   "id": "8e3d11cf-cbf6-477f-a83e-03af13c21fee",
   "metadata": {},
   "outputs": [],
   "source": [
    "# Leemos nuestros dataframes\n",
    "movies = pd.read_csv(\"./ml-latest-small/movies.csv\", sep=\",\")\n",
    "ratings = pd.read_csv(\"./ml-latest-small/ratings.csv\", sep=\",\")\n",
    "tags = pd.read_csv(\"./ml-latest-small/tags.csv\", sep=\",\")\n",
    "links = pd.read_csv(\"./ml-latest-small/links.csv\", sep=\",\")\n",
    "\n",
    "# Eliminamos nuelos\n",
    "movies.dropna(inplace=True)\n",
    "ratings.dropna(inplace=True)\n",
    "tags.dropna(inplace=True)\n",
    "links.dropna(inplace=True)\n",
    "\n",
    "# Extraemos el año del título\n",
    "movies['year'] = movies.title.str.extract(\"\\((\\d{4})\\)\", expand=True)\n",
    "movies.year = pd.to_datetime(movies.year, format='%Y')\n",
    "movies.year = movies.year.dt.year\n",
    "movies.title = movies.title.str[:-7]"
   ]
  },
  {
   "cell_type": "code",
   "execution_count": 3,
   "id": "bef74387-2e8f-46d3-ba21-afbc5e7de35c",
   "metadata": {},
   "outputs": [],
   "source": [
    "total=len(movies)"
   ]
  },
  {
   "cell_type": "code",
   "execution_count": null,
   "id": "744c9a26-26ee-4a30-b98a-3b35476109be",
   "metadata": {
    "tags": []
   },
   "outputs": [],
   "source": [
    "cuenta=0\n",
    "nuestradatabase = pd.DataFrame()\n",
    "for movie in movies[\"title\"]:\n",
    "    titl = movies[\"title\"]\n",
    "    mov = movies.loc[titl==movie, \"movieId\"]\n",
    "    movie_id = mov.iloc[0]\n",
    "    movieId = links[\"movieId\"]\n",
    "    match = links.loc[movieId == movie_id, \"tmdbId\"]\n",
    "    tmdb = match.iloc[0]\n",
    "    tmdb = int(tmdb)\n",
    "    tmdb = str(tmdb)\n",
    "    moveiid = int(movie_id)\n",
    "    moveiid = str(moveiid)\n",
    "    url = \"https://www.themoviedb.org/movie/\" + tmdb\n",
    "    #----------------\n",
    "    chrome_options = Options()\n",
    "    chrome_options.add_argument(\"--lang=en\")\n",
    "    driver = webdriver.Chrome(chrome_options=chrome_options)\n",
    "    driver.get(url)\n",
    "    html = driver.page_source\n",
    "    soup = bs(html)\n",
    "    driver.quit()\n",
    "    #----------------\n",
    "    sinop = soup.find_all(\"div\", class_=\"overview\")\n",
    "    for p in sinop:\n",
    "        sinopsis = p.get_text(strip=True)\n",
    "    nuestradatabase = nuestradatabase.append({'moveId':moveiid,'sinopsis':sinopsis}, ignore_index=True)\n",
    "    cuenta=cuenta+1\n",
    "    print(str(cuenta) + \"/\" + str(total))\n",
    "nuestradatabase.to_csv('sinopsisDB.csv', index=False)"
   ]
  },
  {
   "cell_type": "code",
   "execution_count": null,
   "id": "d8874ea7-c3de-4a7a-aae5-d7950aac50f4",
   "metadata": {},
   "outputs": [],
   "source": [
    "nuestradatabase"
   ]
  },
  {
   "cell_type": "code",
   "execution_count": 1,
   "id": "259c2179-f8d5-4047-bdbe-6c86bbd79e2b",
   "metadata": {},
   "outputs": [],
   "source": [
    "import pandas as pd"
   ]
  },
  {
   "cell_type": "code",
   "execution_count": 3,
   "id": "2f1a76ea",
   "metadata": {},
   "outputs": [],
   "source": [
    "sinopsis = pd.read_csv(\"./ml-latest-small/sinopsisDB.csv\", sep=\",\")\n",
    "\n",
    "valor_id = str(movies.loc[fila_seleccionada, 'movieId'])\n",
    "sinopsis.loc[sinopsis['movieId'] == valor_id, 'sinopsis']"
   ]
  },
  {
   "cell_type": "code",
   "execution_count": 4,
   "id": "f1f5e85c",
   "metadata": {},
   "outputs": [
    {
     "data": {
      "text/html": [
       "<div>\n",
       "<style scoped>\n",
       "    .dataframe tbody tr th:only-of-type {\n",
       "        vertical-align: middle;\n",
       "    }\n",
       "\n",
       "    .dataframe tbody tr th {\n",
       "        vertical-align: top;\n",
       "    }\n",
       "\n",
       "    .dataframe thead th {\n",
       "        text-align: right;\n",
       "    }\n",
       "</style>\n",
       "<table border=\"1\" class=\"dataframe\">\n",
       "  <thead>\n",
       "    <tr style=\"text-align: right;\">\n",
       "      <th></th>\n",
       "      <th>movieId</th>\n",
       "      <th>sinopsis</th>\n",
       "      <th>rating</th>\n",
       "    </tr>\n",
       "  </thead>\n",
       "  <tbody>\n",
       "    <tr>\n",
       "      <th>0</th>\n",
       "      <td>17</td>\n",
       "      <td>Based on Jane Austen's classic novel of the Da...</td>\n",
       "      <td>75</td>\n",
       "    </tr>\n",
       "    <tr>\n",
       "      <th>1</th>\n",
       "      <td>19</td>\n",
       "      <td>Summoned from an ashram in Tibet, Ace finds hi...</td>\n",
       "      <td>63</td>\n",
       "    </tr>\n",
       "    <tr>\n",
       "      <th>2</th>\n",
       "      <td>18</td>\n",
       "      <td>It's Ted the Bellhop's first night on the job....</td>\n",
       "      <td>57</td>\n",
       "    </tr>\n",
       "    <tr>\n",
       "      <th>3</th>\n",
       "      <td>16</td>\n",
       "      <td>In early-1970s Las Vegas, Sam \"Ace\" Rothstein ...</td>\n",
       "      <td>80</td>\n",
       "    </tr>\n",
       "    <tr>\n",
       "      <th>4</th>\n",
       "      <td>1</td>\n",
       "      <td>Led by Woody, Andy's toys live happily in his ...</td>\n",
       "      <td>80</td>\n",
       "    </tr>\n",
       "  </tbody>\n",
       "</table>\n",
       "</div>"
      ],
      "text/plain": [
       "   movieId                                           sinopsis  rating\n",
       "0       17  Based on Jane Austen's classic novel of the Da...      75\n",
       "1       19  Summoned from an ashram in Tibet, Ace finds hi...      63\n",
       "2       18  It's Ted the Bellhop's first night on the job....      57\n",
       "3       16  In early-1970s Las Vegas, Sam \"Ace\" Rothstein ...      80\n",
       "4        1  Led by Woody, Andy's toys live happily in his ...      80"
      ]
     },
     "execution_count": 4,
     "metadata": {},
     "output_type": "execute_result"
    }
   ],
   "source": [
    "sinopsis.head()"
   ]
  },
  {
   "cell_type": "code",
   "execution_count": 5,
   "id": "16ed8578",
   "metadata": {},
   "outputs": [
    {
     "name": "stdout",
     "output_type": "stream",
     "text": [
      "      movieId                                           sinopsis  rating\n",
      "0          17  Based on Jane Austen's classic novel of the Da...      75\n",
      "1          19  Summoned from an ashram in Tibet, Ace finds hi...      63\n",
      "2          18  It's Ted the Bellhop's first night on the job....      57\n",
      "3          16  In early-1970s Las Vegas, Sam \"Ace\" Rothstein ...      80\n",
      "4           1  Led by Woody, Andy's toys live happily in his ...      80\n",
      "...       ...                                                ...     ...\n",
      "8678   193579  Celebrating Jon Stewart's decade and a half ru...      77\n",
      "8679   193587  A large scale catastrophe is occurring across ...      82\n",
      "8680   193581  Ciel learns of a \"Aurora Society\", that is rum...      77\n",
      "8681   193585  A woman deals with the toxic water scandal in ...      70\n",
      "8682   193609  Outrageous, misogynistic and vulgar-to-the-max...      65\n",
      "\n",
      "[8683 rows x 3 columns]\n"
     ]
    }
   ],
   "source": [
    "print(sinopsis)"
   ]
  },
  {
   "cell_type": "code",
   "execution_count": null,
   "id": "79adabc8",
   "metadata": {},
   "outputs": [],
   "source": []
  }
 ],
 "metadata": {
  "kernelspec": {
   "display_name": "Python 3",
   "language": "python",
   "name": "python3"
  },
  "language_info": {
   "codemirror_mode": {
    "name": "ipython",
    "version": 3
   },
   "file_extension": ".py",
   "mimetype": "text/x-python",
   "name": "python",
   "nbconvert_exporter": "python",
   "pygments_lexer": "ipython3",
   "version": "3.11.1 (tags/v3.11.1:a7a450f, Dec  6 2022, 19:58:39) [MSC v.1934 64 bit (AMD64)]"
  },
  "vscode": {
   "interpreter": {
    "hash": "c812eb984687e98b7686c463c3fae2045e58b2a2b4e065b3dcebe3cb7d51662e"
   }
  }
 },
 "nbformat": 4,
 "nbformat_minor": 5
}

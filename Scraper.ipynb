{
 "cells": [
  {
   "cell_type": "markdown",
   "id": "ccfe4602-c2c4-4cc5-8d32-fd2478de8cd2",
   "metadata": {},
   "source": [
    "## Scraper"
   ]
  },
  {
   "cell_type": "code",
   "execution_count": 130,
   "id": "fa4f5858-3f1f-43e3-8d14-18e8104da81e",
   "metadata": {},
   "outputs": [],
   "source": [
    "from bs4 import BeautifulSoup as bs\n",
    "import requests"
   ]
  },
  {
   "cell_type": "code",
   "execution_count": 131,
   "id": "d67fa7d9-0b13-4db8-bfce-a9a660af3401",
   "metadata": {},
   "outputs": [],
   "source": [
    "tmdblb = \"862\""
   ]
  },
  {
   "cell_type": "code",
   "execution_count": 133,
   "id": "d666df34-8813-438f-837d-29a52e01b0df",
   "metadata": {},
   "outputs": [],
   "source": [
    "url = \"https://www.bookdepository.com/bestsellers\""
   ]
  },
  {
   "cell_type": "code",
   "execution_count": 135,
   "id": "7e4d8d91-b01d-4026-ab11-c0e3b1f6544f",
   "metadata": {},
   "outputs": [
    {
     "name": "stdout",
     "output_type": "stream",
     "text": [
      "Los juguetes de Andy, un niño de seis años, temen que haya llegado su hora y que un nuevo regalo de cumpleaños les sustituya en el corazón de su dueño. Woody, un vaquero que ha sido hasta ahora el juguete favorito de Andy, trata de tranquilizarlos hasta que aparece Buzz Lightyear, un héroe espacial dotado de todo tipo de avances tecnológicos. Woody es relegado a un segundo plano., pero su constante rivalidad se transformará en una gran amistad cuando ambos se pierden en la ciudad sin saber cómo volver a casa.\n"
     ]
    }
   ],
   "source": [
    "response = requests.get(url)\n",
    "soup = bs(html)\n",
    "all_h3 = soup.find_all(\"div\", class_=\"overview\")\n",
    "for p in all_h3:\n",
    "       print(p.get_text(strip=True))"
   ]
  },
  {
   "cell_type": "code",
   "execution_count": null,
   "id": "08fb8e74-014b-423c-9be8-7a11bfdeac6e",
   "metadata": {},
   "outputs": [],
   "source": []
  }
 ],
 "metadata": {
  "kernelspec": {
   "display_name": "Python 3",
   "language": "python",
   "name": "python3"
  },
  "language_info": {
   "codemirror_mode": {
    "name": "ipython",
    "version": 3
   },
   "file_extension": ".py",
   "mimetype": "text/x-python",
   "name": "python",
   "nbconvert_exporter": "python",
   "pygments_lexer": "ipython3",
   "version": "3.8.8"
  }
 },
 "nbformat": 4,
 "nbformat_minor": 5
}
